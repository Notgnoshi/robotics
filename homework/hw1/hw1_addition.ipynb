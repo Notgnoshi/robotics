{
 "cells": [
  {
   "cell_type": "markdown",
   "metadata": {},
   "source": [
    "# Kinematics Example for the SCARA Robot\n",
    "\n",
    "![SCARA robot](https://linux-cdn.softpedia.com/screenshots/SCARA-robot_1.jpg)\n",
    "\n",
    "SCARA stands for Selective Compliance Assembly Robot Arm. It is a two-link manipulator operating in the $x$-$y$ plane, with some form of linear actuator at the end of the manipulator operating in along the $z$ axis.\n",
    "\n",
    "**TODO:** Better pictures."
   ]
  },
  {
   "cell_type": "markdown",
   "metadata": {},
   "source": [
    "![scara-tikz](figures/scara-3d.svg)"
   ]
  },
  {
   "cell_type": "markdown",
   "metadata": {},
   "source": [
    "## Forward Kinematics\n",
    "\n",
    "We define the origin of our coordinate system to be centered at the axis of rotation for the first arm, with the $-z$-axis pointing downwards to retain right-handedness of the coordinate system.\n",
    "\n",
    "Then the forward kinematics equations are simply\n",
    "\n",
    "$$x = a_2 \\cos(\\theta_1 + \\theta_2) + a_1 \\cos(\\theta_1)$$\n",
    "$$y = a_2 \\sin(\\theta_1 + \\theta_2) + a_1 \\sin(\\theta_1)$$\n",
    "$$z = q_3$$\n",
    "\n",
    "Note that practical considerations may require $z = q_3 + c$ for some constant $c$ due to arm widths or limitations of the linear actuator, but we will assume the simpler form of $z = q_3$ in this example."
   ]
  },
  {
   "cell_type": "markdown",
   "metadata": {},
   "source": [
    "## Inverse Kinematics\n",
    "\n",
    "Due to the similarity of this system to the two-link manipulator, the inverse kinematics have already been derived.\n",
    "\n",
    "$$D = \\frac{x^2 + y^2 - a_1^2 - a_2^2}{2 a_1 a_2}$$\n",
    "\n",
    "$$\\theta_1 = \\tan^{-1}\\frac{y}{x} - \\tan^{-1} \\frac{a_2\\sin \\theta_2}{a_1 + a_2\\cos\\theta_2}$$\n",
    "$$\\theta_2 = \\tan^{-1}\\frac{\\pm\\sqrt{1-D^2}}{D}$$\n",
    "$$q_3 = z$$\n",
    "\n",
    "Note the dependence of $\\theta_1$ on $\\theta_2$."
   ]
  },
  {
   "cell_type": "markdown",
   "metadata": {},
   "source": [
    "## Python Example for a Straight Line\n",
    "\n",
    "Begin by importing `numpy` and `matplotlib` for nice numerical and plotting support."
   ]
  },
  {
   "cell_type": "code",
   "execution_count": null,
   "metadata": {},
   "outputs": [],
   "source": [
    "%config InlineBackend.figure_format = 'svg'\n",
    "%matplotlib inline\n",
    "\n",
    "import numpy as np\n",
    "import matplotlib.pyplot as plt\n",
    "from mpl_toolkits.mplot3d import Axes3D\n",
    "import seaborn\n",
    "\n",
    "seaborn.set()"
   ]
  },
  {
   "cell_type": "markdown",
   "metadata": {},
   "source": [
    "Then define the arm lengths as constants for the problem"
   ]
  },
  {
   "cell_type": "code",
   "execution_count": null,
   "metadata": {},
   "outputs": [],
   "source": [
    "a1 = 10\n",
    "a2 = 8"
   ]
  },
  {
   "cell_type": "markdown",
   "metadata": {},
   "source": [
    "Then define functions for the forward and inverse kinematics."
   ]
  },
  {
   "cell_type": "code",
   "execution_count": null,
   "metadata": {},
   "outputs": [],
   "source": [
    "def forward(theta1, theta2, q3):\n",
    "    \"\"\"Forward kinematics for a SCARA robot\"\"\"\n",
    "    x = a2 * np.cos(theta1 + theta2) + a1 * np.cos(theta1)\n",
    "    y = a2 * np.sin(theta1 + theta2) + a1 * np.sin(theta1)\n",
    "    z = q3\n",
    "\n",
    "    return x, y, z"
   ]
  },
  {
   "cell_type": "code",
   "execution_count": null,
   "metadata": {},
   "outputs": [],
   "source": [
    "def inverse(x, y, z):\n",
    "    \"\"\"Inverse kinematics for a SCARA robot\"\"\"\n",
    "    D = (x**2 + y**2 - a1**2 - a2**2) / (2 * a1 * a2)\n",
    "    theta2 = np.arctan2(np.sqrt(1 - D**2), D)\n",
    "    theta1 = np.arctan2(y, x) - np.arctan2(a2 * np.sin(theta2), a1 + a2 * np.cos(theta2))\n",
    "    q3 = z\n",
    "\n",
    "    return theta1, theta2, q3"
   ]
  },
  {
   "cell_type": "markdown",
   "metadata": {},
   "source": [
    "Now consider the following path through the 3D workspace. We parameterize the path as a function of $t$ for programmatic simplicity.\n",
    "\n",
    "$$x = x_0 + at$$\n",
    "$$y = y_0 + bt$$\n",
    "$$z = z_0 + ct$$\n",
    "\n",
    "where $(x_0, y_0, z_0)$ is an initial point and $\\langle a, b, c \\rangle$ is the direction of travel.\n",
    "\n",
    "For this example, we will use $(0, -5, 0)$ as our initial point, and $(5, 5, -5)$ as our ending point. This gives $\\langle 1, 2, -1 \\rangle$ as the direction of travel, with $0 \\leq t \\leq 5$?"
   ]
  },
  {
   "cell_type": "markdown",
   "metadata": {},
   "source": [
    "In Python, we generate points on this line as follows."
   ]
  },
  {
   "cell_type": "code",
   "execution_count": null,
   "metadata": {},
   "outputs": [],
   "source": [
    "def path(t):\n",
    "    \"\"\"A parameterized path in the workspace\"\"\"\n",
    "    x = 0 + 1 * t\n",
    "    y = -5 + 2 * t\n",
    "    z = 0 - 1 * t\n",
    "\n",
    "    return x, y, z"
   ]
  },
  {
   "cell_type": "code",
   "execution_count": null,
   "metadata": {},
   "outputs": [],
   "source": [
    "t = np.arange(start=0, stop=5, step=0.1)\n",
    "x, y, z = path(t)"
   ]
  },
  {
   "cell_type": "code",
   "execution_count": null,
   "metadata": {},
   "outputs": [],
   "source": [
    "fig = plt.figure()\n",
    "# Create an Axes3D object, setting the elevation and azimuth\n",
    "ax = fig.add_subplot(111, projection='3d', elev=20, azim=0)\n",
    "\n",
    "ax.plot(x, y, z)\n",
    "plt.title('Desired workspace path')\n",
    "ax.set_xlabel('$x$')\n",
    "ax.set_ylabel('$y$')\n",
    "ax.set_zlabel('$z$')\n",
    "plt.show()"
   ]
  },
  {
   "cell_type": "markdown",
   "metadata": {},
   "source": [
    "Now run the inverse kinematics on the workspace path to compute and plot the corresponding path in the configuration space."
   ]
  },
  {
   "cell_type": "code",
   "execution_count": null,
   "metadata": {},
   "outputs": [],
   "source": [
    "theta1, theta2, q3 = inverse(x, y, z)"
   ]
  },
  {
   "cell_type": "code",
   "execution_count": null,
   "metadata": {},
   "outputs": [],
   "source": [
    "fig = plt.figure()\n",
    "# Create an Axes3D object, setting the elevation and azimuth\n",
    "ax = fig.add_subplot(111, projection='3d', elev=20, azim=0)\n",
    "\n",
    "ax.plot(theta1, theta2, q3)\n",
    "plt.title('Computed configuration space path')\n",
    "ax.set_xlabel('$\\\\theta_1$')\n",
    "ax.set_ylabel('$\\\\theta_2$')\n",
    "ax.set_zlabel('$q_3$')\n",
    "plt.show()"
   ]
  },
  {
   "cell_type": "markdown",
   "metadata": {},
   "source": [
    "Now run the path through the configuration space back through the forward kinematics and plot as a sanity check."
   ]
  },
  {
   "cell_type": "code",
   "execution_count": null,
   "metadata": {},
   "outputs": [],
   "source": [
    "cx, cy, cz = forward(theta1, theta2, q3)"
   ]
  },
  {
   "cell_type": "code",
   "execution_count": null,
   "metadata": {},
   "outputs": [],
   "source": [
    "fig = plt.figure()\n",
    "# Create an Axes3D object, setting the elevation and azimuth\n",
    "ax = fig.add_subplot(111, projection='3d', elev=20, azim=0)\n",
    "\n",
    "ax.plot(cx, cy, cz)\n",
    "plt.title('Computed workspace path')\n",
    "ax.set_xlabel('$x$')\n",
    "ax.set_ylabel('$y$')\n",
    "ax.set_zlabel('$z$')\n",
    "plt.show()"
   ]
  },
  {
   "cell_type": "markdown",
   "metadata": {},
   "source": [
    "This looks like the right path, but programmatically verify:"
   ]
  },
  {
   "cell_type": "code",
   "execution_count": null,
   "metadata": {},
   "outputs": [],
   "source": [
    "print(np.allclose(x, cx))\n",
    "print(np.allclose(y, cy))\n",
    "print(np.allclose(z, cz))"
   ]
  },
  {
   "cell_type": "markdown",
   "metadata": {},
   "source": [
    "## Python Example for a 3D Helix\n",
    "\n",
    "A circular 3D helix is parameterized as follows\n",
    "\n",
    "$$x = x_0 + r \\cos t$$\n",
    "$$y = y_0 + r \\sin t$$\n",
    "$$z = z_0 + ct$$\n",
    "\n",
    "where $(x_0, y_0, z_0)$ is the starting point, $r$ is the radius, and $2 \\pi c$ is the constant vertical separation between the spirals.\n",
    "\n",
    "In this example, we use $x = x_0 + r_1 \\cos t$ and $y = y_0 + r_2 \\sin t$ so that the path is not circular when viewed from above."
   ]
  },
  {
   "cell_type": "code",
   "execution_count": null,
   "metadata": {},
   "outputs": [],
   "source": [
    "def path(t):\n",
    "    \"\"\"A parameterized path in the workspace\"\"\"\n",
    "    x = 15 * np.cos(t)\n",
    "    # Use a different radius for the y coordinate to prevent tracing a circle\n",
    "    y = 4 * np.sin(t)\n",
    "    z = - 1.0 * t / (10 * np.pi)\n",
    "\n",
    "    return x, y, z"
   ]
  },
  {
   "cell_type": "code",
   "execution_count": null,
   "metadata": {},
   "outputs": [],
   "source": [
    "t = np.arange(start=0, stop=4*np.pi, step=0.1)\n",
    "x, y, z = path(t)"
   ]
  },
  {
   "cell_type": "code",
   "execution_count": null,
   "metadata": {},
   "outputs": [],
   "source": [
    "fig = plt.figure()\n",
    "# Create an Axes3D object, setting the elevation and azimuth\n",
    "ax = fig.add_subplot(111, projection='3d', elev=20, azim=0)\n",
    "\n",
    "ax.plot(x, y, z)\n",
    "plt.title('Desired workspace path')\n",
    "ax.set_xlabel('$x$')\n",
    "ax.set_ylabel('$y$')\n",
    "ax.set_zlabel('$z$')\n",
    "plt.show()"
   ]
  },
  {
   "cell_type": "markdown",
   "metadata": {},
   "source": [
    "Then the corresponding path through the configuration space can be seen as follows. Take note of the drastic changes in the angle configurations. Can you visualize how the robotic arms are moving at the sharp changes in the angle configuration?"
   ]
  },
  {
   "cell_type": "code",
   "execution_count": null,
   "metadata": {},
   "outputs": [],
   "source": [
    "theta1, theta2, q3 = inverse(x, y, z)"
   ]
  },
  {
   "cell_type": "code",
   "execution_count": null,
   "metadata": {},
   "outputs": [],
   "source": [
    "fig = plt.figure()\n",
    "# Create an Axes3D object, setting the elevation and azimuth\n",
    "ax = fig.add_subplot(111, projection='3d', elev=20, azim=0)\n",
    "\n",
    "ax.plot(theta1, theta2, q3)\n",
    "plt.title('Computed configuration space path')\n",
    "ax.set_xlabel('$\\\\theta_1$')\n",
    "ax.set_ylabel('$\\\\theta_2$')\n",
    "ax.set_zlabel('$q_3$')\n",
    "plt.show()"
   ]
  },
  {
   "cell_type": "markdown",
   "metadata": {},
   "source": [
    "Run the computed configuration path through the forward kinematics equations as a sanity check."
   ]
  },
  {
   "cell_type": "code",
   "execution_count": null,
   "metadata": {},
   "outputs": [],
   "source": [
    "cx, cy, cz = forward(theta1, theta2, q3)"
   ]
  },
  {
   "cell_type": "code",
   "execution_count": null,
   "metadata": {},
   "outputs": [],
   "source": [
    "fig = plt.figure()\n",
    "# Create an Axes3D object, setting the elevation and azimuth\n",
    "ax = fig.add_subplot(111, projection='3d', elev=20, azim=0)\n",
    "\n",
    "ax.plot(cx, cy, cz)\n",
    "plt.title('Computed workspace path')\n",
    "ax.set_xlabel('$x$')\n",
    "ax.set_ylabel('$y$')\n",
    "ax.set_zlabel('$z$')\n",
    "plt.show()"
   ]
  },
  {
   "cell_type": "markdown",
   "metadata": {},
   "source": [
    "Again, it's always a good idea to verify that we generated the desired path."
   ]
  },
  {
   "cell_type": "code",
   "execution_count": null,
   "metadata": {},
   "outputs": [],
   "source": [
    "print(np.allclose(x, cx))\n",
    "print(np.allclose(y, cy))\n",
    "print(np.allclose(z, cz))"
   ]
  }
 ],
 "metadata": {
  "kernelspec": {
   "display_name": "Python 3",
   "language": "python",
   "name": "python3"
  },
  "language_info": {
   "codemirror_mode": {
    "name": "ipython",
    "version": 3
   },
   "file_extension": ".py",
   "mimetype": "text/x-python",
   "name": "python",
   "nbconvert_exporter": "python",
   "pygments_lexer": "ipython3",
   "version": "3.6.5"
  }
 },
 "nbformat": 4,
 "nbformat_minor": 2
}
