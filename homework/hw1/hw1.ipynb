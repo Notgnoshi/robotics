{
 "cells": [
  {
   "cell_type": "markdown",
   "metadata": {},
   "source": [
    "# Homework 1\n",
    "\n",
    "Austin Gill\n",
    "\n",
    "Problems:\n",
    "\n",
    "* 1.1, 1.8, 1.15\n",
    "* 2.9, 2.10, 2.11, 2.29, 2.31\n",
    "* Text Addition\n",
    "\n",
    "---"
   ]
  },
  {
   "cell_type": "markdown",
   "metadata": {},
   "source": [
    "## Problem 1.1\n",
    "\n",
    "How would you define a robot?"
   ]
  },
  {
   "cell_type": "markdown",
   "metadata": {},
   "source": [
    "Simpler is always better: A robot is a machine; a mechanical device built to perform some complex task, often repeatedly, with the intent of replacing or amplifying human effort.\n",
    "\n",
    "Now a few notes:\n",
    "\n",
    "* I would argue that the *intent* of the device's use is important.\n",
    "* I would argue that the definition of *complex* is key. This is what separates a washing machine and a toaster from an assembly line robot. What is \"complex\" is continually redefined as time progresses. In my opinion, in the 1800s, a washing machine *would* be considered a robot."
   ]
  },
  {
   "cell_type": "markdown",
   "metadata": {},
   "source": [
    "## Problem 1.8\n",
    "Do you think the *Robotic Appliance* and *Robotic Agent* partitioning is a more effective way to classify robots? Why or why not?"
   ]
  },
  {
   "cell_type": "markdown",
   "metadata": {},
   "source": [
    "At the time being, yes, I think this is a more effective way to classify robots. This partitioning distinguishes the current cutting edge from the established and well-known. As time progresses, however, this distinction may become less and less important than some other, unknown as-of-yet, feature."
   ]
  },
  {
   "cell_type": "markdown",
   "metadata": {},
   "source": [
    "## Problem 1.15\n",
    "\n",
    "Work in robotics can replace people with machines. This results in job loss. Discuss the ethics of working in the robotics industry."
   ]
  },
  {
   "cell_type": "markdown",
   "metadata": {},
   "source": [
    "The same could have been said of the female \"computers\" of WWII and soon after. Or the Chinese railroad workers in the 1800s. Or for that matter, any force-multiplying technology.\n",
    "\n",
    "I personally believe job loss caused by robotics to be (an ethical) non-issue. However, it does present very real challenges to be solved. Since humans have learned to bang rocks together, the amount of work to be done has never stopped increasing, and the type of work to be done has never stopped changing. (Sure, we've always needed to gather food, but the manner in which we do it has changed dramatically). I believe there will always be opportunity for work.\n",
    "\n",
    "A utopian view might be that in the future, the entire workforce will be replaced by robotics, and no one will have to work. I think this is naive, and views \"work\" and the \"workforce\" to accomplish it as a static resource, one that isn't constantly growing and changing. I predict humans will wipe themselves out before an entirely robotic workforce is feasible."
   ]
  },
  {
   "cell_type": "markdown",
   "metadata": {},
   "source": [
    "## Problem 2.9\n",
    "\n",
    "![manipulator](figures/twolinkalt2.png)\n",
    "\n",
    "Assume that you have a two link manipulator that is operating in the vertical plane $x$−$z$. Attach the base to a rotational joint so the arm rotates around the $z$ axis\n",
    "\n",
    "* Find the position of the end effector as a function of joint angles.\n",
    "* Find the inverse kinematic formula.\n"
   ]
  },
  {
   "cell_type": "markdown",
   "metadata": {},
   "source": [
    "**Feedback:** The textbook is inconsistent with its use of $\\theta_1$, $\\theta_2$ and $Q_1$, $Q_2$. Please use diagrams that agree with your LaTeX or vice versa.\n",
    "\n",
    "### Forward Kinematics\n",
    "\n",
    "![x-z plane](figures/x-z.png)\n",
    "\n",
    "First, in the $x$-$z$ plane, find the $z$ coordinate of the manipulator end point\n",
    "\n",
    "$$z = L_1 \\sin Q_1 + L_2 \\sin(Q_1 + Q_2)$$\n",
    "\n",
    "Then the length of the manipulator in the $x$-$y$ plane is\n",
    "\n",
    "$$L = L_1 \\cos Q_1 + L_2 \\cos(Q_1 + Q_2)$$\n",
    "\n",
    "From which we can find\n",
    "\n",
    "$$x = L \\cos Q_3$$\n",
    "$$y = L \\sin Q_3$$\n",
    "\n",
    "### Inverse Kinematics\n",
    "\n",
    "Working in the $x$-$y$ plane first, it is easy to calculate $Q_3$ and $L$\n",
    "\n",
    "![inverse](figures/inverse2.png)\n",
    "\n",
    "$$L = \\sqrt{x^2 + y^2}$$\n",
    "$$Q_3 = \\arctan{\\frac{y}{x}}$$\n",
    "\n",
    "Once $L$ has bee calculated, we then move into the $x$-$z$ plane and calculate $H$ and $\\alpha + Q_1$\n",
    "\n",
    "![inverse](figures/inverse1.png)\n",
    "\n",
    "$$H = \\sqrt{x^2 + y^2 + z^2}$$\n",
    "$$\\alpha + Q_1 = \\arctan{\\frac{z}{L}}$$\n",
    "\n",
    "**Note:** $\\alpha$ could be positive or negative (elbow up, elbow down)\n",
    "\n",
    "Now use the law of cosines to calculate $\\alpha$ and $\\gamma$\n",
    "\n",
    "$${L_2}^2 = {L_1}^2 + H^2 - 2L_1 H \\cos \\alpha$$\n",
    "$$\\alpha = \\arccos{\\left(\\frac{{L_2}^2 - {L_1}^2 - H^2}{-2L_1 H}\\right)}$$\n",
    "\n",
    "$$H^2 = {L_2}^2 + {L_1}^2 - 2 L_1 L_2 \\cos \\gamma$$\n",
    "$$\\gamma = \\arccos{\\left(\\frac{H^2 - {L_1}^2 - {L_2}^2}{-2 L_1 L_2}\\right)}$$\n",
    "\n",
    "But $\\alpha + Q_1 = \\arctan{\\frac{z}{L}}$, so\n",
    "\n",
    "$$Q_1 = \\arctan{\\frac{z}{L}} - \\arccos{\\frac{{L_2}^2 - {L_1}^2 - H^2}{-2L_1 H}}$$\n",
    "\n",
    "and\n",
    "\n",
    "$$Q_2 = \\pi - \\gamma$$"
   ]
  },
  {
   "cell_type": "markdown",
   "metadata": {},
   "source": [
    "## Problem 2.10\n",
    "\n",
    "Assume that you have a two link manipulator with $a_1=15$cm and $a_2=15$cm and that the base of the manipulator is at the origin of the coordinate system. Write a Python program to take the list of workspace points and plug them into the inverse kinematics formulas for the two link manipulator. Plot these points on a graph where $\\theta_1$ is the horizontal axis and $\\theta_2$ is the vertical axis. You will have to adjust some aspects to get a good looking plot. (Scale factors etc.) Test your code on the workspace line\n",
    "* $x+y=25$ for $x,y>0$ and\n",
    "* $x=10\\cos(t)+15, y=10\\sin(t)$ for $0\\leq t \\leq \\pi$.\n",
    "\n",
    "The point here is to see what the configuration space curve looks like."
   ]
  },
  {
   "cell_type": "code",
   "execution_count": null,
   "metadata": {},
   "outputs": [],
   "source": [
    "%config InlineBackend.figure_format = 'svg'\n",
    "%matplotlib inline\n",
    "\n",
    "import numpy as np\n",
    "import matplotlib.pyplot as plt\n",
    "import seaborn as sns\n",
    "\n",
    "sns.set()"
   ]
  },
  {
   "cell_type": "code",
   "execution_count": null,
   "metadata": {},
   "outputs": [],
   "source": [
    "a1 = 15\n",
    "a2 = 15\n",
    "\n",
    "def forward(q1, q2):\n",
    "    \"\"\"Forward kinematics for a configuration point\"\"\"\n",
    "    x = a2 * np.cos(q1 + q2) + a1 * np.cos(q1)\n",
    "    y = a2 * np.sin(q1 + q2) + a1 * np.sin(q1)\n",
    "\n",
    "    return x, y\n",
    "\n",
    "def inverse(x, y):\n",
    "    \"\"\"Inverse kinematics for a workspace point\"\"\"\n",
    "    D = (x**2 + y**2 - a1**2 - a2**2) / (2 * a1 * a2)\n",
    "    q2 = np.arctan2(np.sqrt(1 - D**2), D)\n",
    "    q1 = np.arctan2(y, x) - np.arctan2(a2 * np.sin(q2), a1 + a2 * np.cos(q2))\n",
    "\n",
    "    return q1, q2"
   ]
  },
  {
   "cell_type": "code",
   "execution_count": null,
   "metadata": {},
   "outputs": [],
   "source": [
    "x = np.arange(start=0, stop=25, step=0.1)\n",
    "y = 25 - x\n",
    "\n",
    "q1, q2 = inverse(x, y)\n",
    "xx, yy = forward(q1, q2)\n",
    "# Sanity check\n",
    "assert np.allclose(x, xx)\n",
    "assert np.allclose(y, yy)"
   ]
  },
  {
   "cell_type": "code",
   "execution_count": null,
   "metadata": {},
   "outputs": [],
   "source": [
    "plt.plot(q1, q2)\n",
    "plt.title('Configuration curve for inverse kinematics')\n",
    "plt.xlabel('$q_1$')\n",
    "plt.ylabel('$q_2$')\n",
    "plt.show()"
   ]
  },
  {
   "cell_type": "code",
   "execution_count": null,
   "metadata": {},
   "outputs": [],
   "source": [
    "t = np.arange(start=0, stop=np.pi, step=0.1)\n",
    "x = 10 * np.cos(t) + 15\n",
    "y = 10 * np.sin(t)\n",
    "\n",
    "q1, q2 = inverse(x, y)\n",
    "xx, yy = forward(q1, q2)\n",
    "# Sanity check\n",
    "assert np.allclose(x, xx)\n",
    "assert np.allclose(y, yy)"
   ]
  },
  {
   "cell_type": "code",
   "execution_count": null,
   "metadata": {},
   "outputs": [],
   "source": [
    "plt.plot(q1, q2)\n",
    "plt.title('Configuration curve for inverse kinematics')\n",
    "plt.xlabel('$q_1$')\n",
    "plt.ylabel('$q_2$')\n",
    "plt.show()"
   ]
  },
  {
   "cell_type": "markdown",
   "metadata": {},
   "source": [
    "## Problem 2.11\n",
    "\n",
    "Assume that you have a two link manipulator with $a_1=15$cm and $a_2=15$cm and that the base of the manipulator is at the origin of the coordinate system. Write a two link manipulator location program (Python). This program will take a list of angles and compute the location of the end effector. Show how this program works with the list of angles you generated in the previous problem. If the angle inputs are generated by a square, the simulated robot arm’s end effector should trace a square. Plot the end effector points. You need to plot the input shape and the final shape to see if your code is correct. You will need to use the previous problem for this problem. Demonstrate your code to trace out the four segments which form the square with endpoints $(5,0)$, $(5, 15)$, $(20, 15)$, and $(20,0)$."
   ]
  },
  {
   "cell_type": "markdown",
   "metadata": {},
   "source": [
    "First, plot the curves for sanity. The forward kinematics were written as a part of the previous problem."
   ]
  },
  {
   "cell_type": "code",
   "execution_count": null,
   "metadata": {},
   "outputs": [],
   "source": [
    "x = np.arange(start=0, stop=25, step=0.1)\n",
    "y = 25 - x\n",
    "plt.plot(x, y, label='straight line')\n",
    "\n",
    "\n",
    "t = np.arange(start=0, stop=np.pi, step=0.1)\n",
    "x = 10 * np.cos(t) + 15\n",
    "y = 10 * np.sin(t)\n",
    "plt.plot(x, y, label='circle')\n",
    "\n",
    "plt.title('Curves in the workspace')\n",
    "plt.legend()\n",
    "plt.xlabel('$x$')\n",
    "plt.ylabel('$y$')\n",
    "plt.axis('equal')\n",
    "plt.show()"
   ]
  },
  {
   "cell_type": "markdown",
   "metadata": {},
   "source": [
    "Recompute the workspace curves because I reused variables..."
   ]
  },
  {
   "cell_type": "code",
   "execution_count": null,
   "metadata": {},
   "outputs": [],
   "source": [
    "x1 = np.arange(start=0, stop=25, step=0.1)\n",
    "y1 = 25 - x1\n",
    "q1, w1 = inverse(x1, y1)\n",
    "\n",
    "t = np.arange(start=0, stop=np.pi, step=0.1)\n",
    "x2 = 10 * np.cos(t) + 15\n",
    "y2 = 10 * np.sin(t)\n",
    "\n",
    "q2, w2 = inverse(x2, y2)"
   ]
  },
  {
   "cell_type": "code",
   "execution_count": null,
   "metadata": {},
   "outputs": [],
   "source": [
    "xx1, yy1 = forward(q1, w1)\n",
    "assert np.allclose(x1, xx1)\n",
    "assert np.allclose(y1, yy1)\n",
    "plt.plot(xx1, yy1, label='straight line')\n",
    "\n",
    "xx2, yy2 = forward(q2, w2)\n",
    "assert np.allclose(x2, xx2)\n",
    "assert np.allclose(y2, yy2)\n",
    "plt.plot(xx2, yy2, label='circle')\n",
    "\n",
    "plt.title('Computed curves in the workspace')\n",
    "plt.legend()\n",
    "plt.xlabel('$x$')\n",
    "plt.ylabel('$y$')\n",
    "plt.axis('equal')\n",
    "plt.show()"
   ]
  },
  {
   "cell_type": "markdown",
   "metadata": {},
   "source": [
    "Hey! Look at that, they look the same!"
   ]
  },
  {
   "cell_type": "code",
   "execution_count": null,
   "metadata": {},
   "outputs": [],
   "source": [
    "# I couldn't think of a better way to generate points on a square...\n",
    "N = 100\n",
    "x = np.linspace(start=5, stop=20, num=N)\n",
    "x = np.append(x, np.linspace(start=20, stop=20, num=N))\n",
    "x = np.append(x, np.linspace(start=20, stop=5, num=N))\n",
    "x = np.append(x, np.linspace(start=5, stop=5, num=N))\n",
    "\n",
    "y = np.linspace(start=0, stop=0, num=N)\n",
    "y = np.append(y, np.linspace(start=0, stop=15, num=N))\n",
    "y = np.append(y, np.linspace(start=15, stop=15, num=N))\n",
    "y = np.append(y, np.linspace(start=15, stop=0, num=N))"
   ]
  },
  {
   "cell_type": "code",
   "execution_count": null,
   "metadata": {},
   "outputs": [],
   "source": [
    "# Plot for sanity\n",
    "plt.plot(x, y)\n",
    "plt.title('Square in workspace')\n",
    "plt.axis('equal')\n",
    "plt.xlabel('$x$')\n",
    "plt.ylabel('$y$')\n",
    "plt.show()"
   ]
  },
  {
   "cell_type": "code",
   "execution_count": null,
   "metadata": {},
   "outputs": [],
   "source": [
    "q1, q2 = inverse(x, y)\n",
    "plt.plot(q1, q2)\n",
    "plt.title('Square in configuration space')\n",
    "plt.xlabel('$q_1$')\n",
    "plt.ylabel('$q_2$')\n",
    "plt.show()"
   ]
  },
  {
   "cell_type": "markdown",
   "metadata": {},
   "source": [
    "I'm surprised one of the curves in configuration space is a straight line. I did not expect one of the sides of the square to have a constant ratio between $q_1$ and $q_2$ while it was being traced."
   ]
  },
  {
   "cell_type": "code",
   "execution_count": null,
   "metadata": {},
   "outputs": [],
   "source": [
    "xx, yy = forward(q1, q2)\n",
    "\n",
    "assert np.allclose(x, xx)\n",
    "assert np.allclose(y, yy)\n",
    "\n",
    "plt.plot(xx, yy)\n",
    "plt.title('Computed square in workspace')\n",
    "plt.axis('equal')\n",
    "plt.xlabel('$x$')\n",
    "plt.ylabel('$y$')\n",
    "plt.show()"
   ]
  },
  {
   "cell_type": "markdown",
   "metadata": {},
   "source": [
    "## Problem 2.29\n",
    "\n",
    "Given a differential drive robot starting from $(0,0,0)$ find the final position when wheel velocities are given by:\n",
    "\n",
    "$t=0$ to $t=5$: $\\omega_1= 2$, $\\omega_2= 2$\n",
    "\n",
    "$t=5$ to $t=6$: $\\omega_1= 3$, $\\omega_2= 4$\n",
    "\n",
    "$t=6$ to $t=10$: $\\omega_1= 1$, $\\omega_2= 2$\n",
    "\n",
    "where $D=10$, and $L=16$."
   ]
  },
  {
   "cell_type": "code",
   "execution_count": null,
   "metadata": {},
   "outputs": [],
   "source": [
    "D = 10\n",
    "r = D / 2\n",
    "L = 16"
   ]
  },
  {
   "cell_type": "code",
   "execution_count": null,
   "metadata": {},
   "outputs": [],
   "source": [
    "def speeds(t):\n",
    "    \"\"\"Get the wheel speeds as a function of time\"\"\"\n",
    "    if 0 < t <= 5:\n",
    "        return 2, 2\n",
    "    elif 5 < t <= 6:\n",
    "        return 3, 4\n",
    "    elif 6 < t <=10:\n",
    "        return 1, 2\n",
    "    else:\n",
    "        return 0, 0"
   ]
  },
  {
   "cell_type": "code",
   "execution_count": null,
   "metadata": {},
   "outputs": [],
   "source": [
    "def x_dot(w1, w2, theta):\n",
    "    \"\"\"x time derivative for diff. drive forward kinematics\"\"\"\n",
    "    return (r / 2) * (w1 + w2) * np.cos(theta)\n",
    "\n",
    "def y_dot(w1, w2, theta):\n",
    "    \"\"\"y time derivative for diff. drive forward kinematics\"\"\"\n",
    "    return (r / 2) * (w1 + w2) * np.sin(theta)\n",
    "\n",
    "def theta_dot(w1, w2):\n",
    "    \"\"\"theta time derivative for diff. drive forward kinematics\"\"\"\n",
    "    return (r / (2 * L)) * (w1 - w2)"
   ]
  },
  {
   "cell_type": "code",
   "execution_count": null,
   "metadata": {},
   "outputs": [],
   "source": [
    "def pos(x0):\n",
    "    \"\"\"A generator yielding position vectors starting at x0\"\"\"\n",
    "    dt = 0.1\n",
    "    for t in np.arange(0, 10+dt, dt):\n",
    "        w1, w2 = speeds(t)\n",
    "        # Update the new position.\n",
    "        x0 = x0 + np.array([x_dot(w1, w2, x0[2])*dt, y_dot(w1, w2, x0[2])*dt, theta_dot(w1, w2)*dt])\n",
    "        # Yield both the point and the time at which the robot arrives at that point.\n",
    "        # TODO: There should be a way to not need to also yield the times.\n",
    "        yield x0, t"
   ]
  },
  {
   "cell_type": "code",
   "execution_count": null,
   "metadata": {},
   "outputs": [],
   "source": [
    "# Use [0, 0, 0] as the initial condition, and get list of points and times\n",
    "points = [(x, t) for x, t in pos(np.array([0, 0, 0], dtype='float64'))]"
   ]
  },
  {
   "cell_type": "code",
   "execution_count": null,
   "metadata": {},
   "outputs": [],
   "source": [
    "x = np.array([point[0][0] for point in points])\n",
    "y = np.array([point[0][1] for point in points])"
   ]
  },
  {
   "cell_type": "code",
   "execution_count": null,
   "metadata": {},
   "outputs": [],
   "source": [
    "# There exists a better way to do this\n",
    "important_times = [0.0, 5.0, 6.0, 10.0]\n",
    "important_points = [p for p, t in points if t in important_times]"
   ]
  },
  {
   "cell_type": "code",
   "execution_count": null,
   "metadata": {},
   "outputs": [],
   "source": [
    "xi = [p[0] for p in important_points]\n",
    "yi = [p[1] for p in important_points]"
   ]
  },
  {
   "cell_type": "code",
   "execution_count": null,
   "metadata": {},
   "outputs": [],
   "source": [
    "plt.plot(x, y, label='robot path')\n",
    "plt.plot(xi, yi, '.', label='$t = 0, 5, 6, 10$')\n",
    "plt.title('Motion of the differential drive robot in the workspace')\n",
    "plt.xlabel('$x$')\n",
    "plt.ylabel('$y$')\n",
    "plt.legend()\n",
    "plt.show()"
   ]
  },
  {
   "cell_type": "markdown",
   "metadata": {},
   "source": [
    "## Problem 2.31\n",
    "\n",
    "Show that the differential drive kinematic equations are non-holonomic constraints."
   ]
  },
  {
   "cell_type": "markdown",
   "metadata": {},
   "source": [
    "Recall the kinematic equations\n",
    "\n",
    "$$\\dot x = \\frac{r}{2}(\\dot\\phi_1 + \\dot\\phi_2)\\cos \\theta$$\n",
    "$$\\dot y = \\frac{r}{2}(\\dot\\phi_1 + \\dot\\phi_2)\\sin \\theta$$\n",
    "$$\\dot\\theta = \\frac{r}{2L}(\\dot\\phi_1 - \\dot\\phi_2)$$\n",
    "\n",
    "Note that $\\dot\\theta$ can be solved for $\\theta(t)$ and substituted back into the $\\dot x$ and $\\dot y$ ODEs.\n",
    "\n",
    "Also note that were $\\dot x$ integrable, it would be a derivative of the form\n",
    "\n",
    "$$\\dot x = \\frac{dx}{dt} = \\frac{dx}{d\\phi_1} \\frac{d\\phi_1}{dt} + \\frac{dx}{d\\phi_2}\\frac{d\\phi_2}{dt}$$\n",
    "\n",
    "because of the chain rule. Further, all holonomic constraints are of the form\n",
    "\n",
    "$$\\sum a_i(\\vec x) \\dot x_i$$\n",
    "\n",
    "and note that $\\dot x$ can not be manipulated into this form because of the nonlinear $\\dot\\phi_i$ terms once $\\theta(t)$ has been substituted back in.\n",
    "\n",
    "Due to this structural argument, $\\dot x$ is non-holonomic. Since $\\dot x$ is non-holonomic, the entire system of ODEs is nonholonomic (one is all it takes)."
   ]
  },
  {
   "cell_type": "markdown",
   "metadata": {},
   "source": [
    "## Text Addition"
   ]
  },
  {
   "cell_type": "markdown",
   "metadata": {},
   "source": [
    "Submitted separately, but also available as a Jupyter notebook at [https://github.com/Notgnoshi/robotics/blob/master/homework/hw1/hw1_addition.ipynb](https://github.com/Notgnoshi/robotics/blob/master/homework/hw1/hw1_addition.ipynb)."
   ]
  }
 ],
 "metadata": {
  "kernelspec": {
   "display_name": "Python 3",
   "language": "python",
   "name": "python3"
  },
  "language_info": {
   "codemirror_mode": {
    "name": "ipython",
    "version": 3
   },
   "file_extension": ".py",
   "mimetype": "text/x-python",
   "name": "python",
   "nbconvert_exporter": "python",
   "pygments_lexer": "ipython3",
   "version": "3.6.6"
  }
 },
 "nbformat": 4,
 "nbformat_minor": 2
}
