{
 "cells": [
  {
   "cell_type": "code",
   "execution_count": null,
   "metadata": {},
   "outputs": [],
   "source": [
    "# %config InlineBackend.figure_format = 'retina'\n",
    "%config InlineBackend.figure_format = 'svg'\n",
    "%matplotlib inline\n",
    "\n",
    "import itertools\n",
    "import numpy as np\n",
    "import scipy as sp\n",
    "import matplotlib.pyplot as plt\n",
    "from mpl_toolkits.mplot3d import Axes3D\n",
    "import seaborn as sns\n",
    "\n",
    "sns.set()"
   ]
  },
  {
   "cell_type": "markdown",
   "metadata": {},
   "source": [
    "# Homework 4\n",
    "\n",
    "Austin Gill\n",
    "\n",
    "* 5: 2, 10abd\n",
    "* 9: 1, 2\n",
    "* 10: 1, 2\n",
    "* Text addition"
   ]
  },
  {
   "cell_type": "markdown",
   "metadata": {},
   "source": [
    "## Problem 5.2\n",
    "\n",
    "Using Veranda and the basic motion algorithm, place a set of obstacles that cause the robot to cycle and not find the goal. In other words, build a robot trap."
   ]
  },
  {
   "cell_type": "markdown",
   "metadata": {},
   "source": [
    "## Problem 5.10.a\n",
    "\n",
    "Implement Bug 1 in Veranda. Screen capture the results."
   ]
  },
  {
   "cell_type": "markdown",
   "metadata": {},
   "source": [
    "## Problem 5.10.b\n",
    "\n",
    "Implement Bug 2 in Veranda. Screen capture the results."
   ]
  },
  {
   "cell_type": "markdown",
   "metadata": {},
   "source": [
    "## Problem 5.10.d\n",
    "\n",
    "Implement Tangent Bug in Veranda. Screen capture the results."
   ]
  },
  {
   "cell_type": "markdown",
   "metadata": {},
   "source": [
    "## Problem 9.1\n",
    "\n",
    "Assume that you are working in a large event center which has beacons located around the facility. Estimate the location of a robot, $(a,b,c)$, if the $(x,y,z) $ location of the beacon and the distance from the beacon to the robot, $d$, are given in the table below.\n",
    "\n",
    "| $x$ | $y$ | $z$ | $d$ |\n",
    "|-----|-----|-----|-----|\n",
    "| 884 | 554 | 713 | 222 |\n",
    "| 120 | 703 | 771 | 843 |\n",
    "| 938 | 871 | 583 | 436 |\n",
    "| 967 | 653 | 46  | 529 |\n",
    "| 593 | 186 | 989 | 610 |"
   ]
  },
  {
   "cell_type": "markdown",
   "metadata": {},
   "source": [
    "First, we plot the spheres to get a good idea of what we're looking at."
   ]
  },
  {
   "cell_type": "code",
   "execution_count": null,
   "metadata": {},
   "outputs": [],
   "source": [
    "centers = [\n",
    "    (884, 554, 713),\n",
    "    (120, 703, 771),\n",
    "    (938, 871, 583),\n",
    "    (967, 653, 46),\n",
    "    (593, 186, 989),\n",
    "]\n",
    "\n",
    "radii = [222, 843, 436, 529, 610]\n",
    "\n",
    "spheres = list(zip(centers, radii))"
   ]
  },
  {
   "cell_type": "code",
   "execution_count": null,
   "metadata": {},
   "outputs": [],
   "source": [
    "u = np.linspace(0, 2 * np.pi, 20)\n",
    "v = np.linspace(0, np.pi, 20)\n",
    "\n",
    "circles = []\n",
    "\n",
    "# Generate the points on the spheres\n",
    "for center, r in spheres:\n",
    "    x = center[0] + r * np.outer(np.cos(u), np.sin(v))\n",
    "    y = center[1] + r * np.outer(np.sin(u), np.sin(v))\n",
    "    z = center[2] + r * np.outer(np.ones(np.size(u)), np.cos(v))\n",
    "    circles.append((x, y, z))"
   ]
  },
  {
   "cell_type": "code",
   "execution_count": null,
   "metadata": {},
   "outputs": [],
   "source": [
    "fig = plt.figure(figsize=(10, 10))\n",
    "ax = fig.add_subplot(111, projection='3d')\n",
    "ax.set_aspect('equal')\n",
    "ax.view_init(azim=-10, elev=15)\n",
    "\n",
    "for x, y, z in circles:\n",
    "    ax.plot_surface(x, y, z, linewidth=0.05, alpha=0.6)\n",
    "\n",
    "ax.set_xlabel('$x$')\n",
    "ax.set_ylabel('$y$')\n",
    "ax.set_zlabel('$z$')\n",
    "\n",
    "# TODO: <rant></rant>\n",
    "# ax.set_xlim(0, 1000) and ax.set_xbound(0, 1000) set the *axis* bounds\n",
    "# not the data bounds, so the spheres still get plotted outside the axis...\n",
    "ax.set_xlim(0, 1000)\n",
    "ax.set_ylim(0, 1000)\n",
    "ax.set_zlim(0, 1000)\n",
    "\n",
    "plt.show()"
   ]
  },
  {
   "cell_type": "markdown",
   "metadata": {},
   "source": [
    "Now how to find the intersection point? For simplicity's sake, I will use the optimization technique given as the first example in the textbook. For this, we build an error function\n",
    "\n",
    "$$f(x, y, z) = \\sum_i \\left( \\sqrt{(x - x_i)^2 + (y - y_i)^2 + (z - z_i)^2} - r_i \\right)^2$$\n",
    "\n",
    "and find the point $(x, y, z)$ that minimizes the error and claim that that point is as close to an intersection of the spheres as we're going to get.\n",
    "\n",
    "I will modify this error function to also take in a vector $\\vec s$ of sphere indices to use. This way I can loop through all combinations of 3, 4, and 5 of the given spheres."
   ]
  },
  {
   "cell_type": "code",
   "execution_count": null,
   "metadata": {},
   "outputs": [],
   "source": [
    "def E(v, s):\n",
    "    \"\"\"Error function for the given set of spheres.\"\"\"\n",
    "    x, y, z = v\n",
    "    e = 0\n",
    "    for sphere in (spheres[i] for i in s):\n",
    "        (xi, yi, zi), ri = sphere\n",
    "        e += (np.sqrt((x - xi)**2 + (y - yi)**2 + (z - zi)**2) - ri)**2\n",
    "\n",
    "    return e"
   ]
  },
  {
   "cell_type": "code",
   "execution_count": null,
   "metadata": {},
   "outputs": [],
   "source": [
    "# A generator of all the sphere index vectors\n",
    "ss = itertools.chain.from_iterable(itertools.combinations(range(5), i) for i in [3, 4, 5])"
   ]
  },
  {
   "cell_type": "code",
   "execution_count": null,
   "metadata": {},
   "outputs": [],
   "source": [
    "results = []\n",
    "for s in ss:\n",
    "    results.append(sp.optimize.minimize(E, x0=(800, 400, 400), args=(s,)))"
   ]
  },
  {
   "cell_type": "markdown",
   "metadata": {},
   "source": [
    "Note that the `minimize` function can fail, in which case the returned `OptimizeResult` object has the `success` field set to `False`."
   ]
  },
  {
   "cell_type": "code",
   "execution_count": null,
   "metadata": {},
   "outputs": [],
   "source": [
    "# Lists of (x, y, z) tuples\n",
    "positions = np.array([r.x for r in results if r.success])"
   ]
  },
  {
   "cell_type": "code",
   "execution_count": null,
   "metadata": {},
   "outputs": [],
   "source": [
    "fig = plt.figure(figsize=(10, 10))\n",
    "ax = fig.add_subplot(111, projection='3d')\n",
    "\n",
    "# Unzip the list of tuples into a tuple of lists\n",
    "ax.scatter(*zip(*positions), alpha=0.7)\n",
    "\n",
    "ax.set_xlabel('$x$')\n",
    "ax.set_ylabel('$y$')\n",
    "ax.set_zlabel('$z$')\n",
    "\n",
    "plt.title('Optimization results for all combinations of 3, 4, and 5 spheres')\n",
    "\n",
    "plt.show()"
   ]
  },
  {
   "cell_type": "markdown",
   "metadata": {},
   "source": [
    "This gives us a bunch of potential intersection points. Yay. So we remove the two outliers and plot the centroid."
   ]
  },
  {
   "cell_type": "code",
   "execution_count": null,
   "metadata": {},
   "outputs": [],
   "source": [
    "x, y, z = zip(*positions)\n",
    "\n",
    "filtered = []\n",
    "\n",
    "# Filter out the outliers\n",
    "for xi, yi, zi in zip(x, y, z):\n",
    "    if xi > 860:\n",
    "        filtered.append((xi, yi, zi))\n",
    "\n",
    "filtered = np.array(filtered)\n",
    "\n",
    "centroid = np.mean(filtered, axis=0)\n",
    "print(f'centroid: {centroid}')"
   ]
  },
  {
   "cell_type": "code",
   "execution_count": null,
   "metadata": {},
   "outputs": [],
   "source": [
    "fig = plt.figure(figsize=(10, 10))\n",
    "ax = fig.add_subplot(111, projection='3d')\n",
    "\n",
    "# Unzip the list of tuples into a tuple of lists\n",
    "ax.scatter(*zip(*filtered), alpha=0.7, label='Intersections')\n",
    "ax.scatter(*centroid, label='Centroid')\n",
    "\n",
    "ax.set_xlabel('$x$')\n",
    "ax.set_ylabel('$y$')\n",
    "ax.set_zlabel('$z$')\n",
    "\n",
    "plt.title('Optimization results with outliers removed')\n",
    "plt.legend()\n",
    "\n",
    "plt.show()"
   ]
  },
  {
   "cell_type": "markdown",
   "metadata": {},
   "source": [
    "So the estimated robot position is near $(886.03, 442.21, 521.77)$. If matplotlib would respect the `ax.set_*lim()` function calls when I plot the sphere surfaces, I could generate a helpful plot showing the spheres and the estimated position. But I've spent far too much of my life going through the first ten pages of my Google searches (I even used Google over DuckDuckGo for this) for me to try any more."
   ]
  },
  {
   "cell_type": "markdown",
   "metadata": {},
   "source": [
    "## Problem 9.2\n",
    "\n",
    "If you are using a laser diode to build a distance sensor, you need some method to determine the travel time. Instead of using pulses and a clock, try using phase shifts. What is the wavelength of the modulated frequency of 10MHz? If you measure a 10 degree phase shift, this value corresponds to what distances? What if the phase shift measurement has noise: zero mean with standard deviation 0.1? How does one get a good estimate of position if the ranges to be measured are from 20 meters to 250 meters?"
   ]
  },
  {
   "cell_type": "markdown",
   "metadata": {},
   "source": [
    "We have wavelength $\\lambda = \\frac{c}{f}$, where $c = 3 \\times 10^8$ and $f = 10\\times10^6$, so then $\\lambda = 30$m.\n",
    "\n",
    "A $10^\\circ$ phase shift is $\\frac{10}{360} = \\frac{1}{36}$ of the wavelength, so with a wave length of $30$m, we have an estimate of the distance travelled of $30\\cdot\\frac{1}{36} = 0.8\\overline{33}$ meters for the round trip distance.\n",
    "\n",
    "Now, of course, realise that the phase shift would be the same for any round trip distance $0.8\\overline{33} + 30n$ where $n \\in \\mathbb Z$.\n",
    "\n",
    "If the phase shift reading is additively normally noisy, then the above value of $\\frac{1}{36}$ will be replaced by some distribution with a mean and standard deviation. So we'd have instead, $X + 30n$, where $X$ is random. However, the size difference of $X$ relative to the size of $30n$ for almost any $n$ is small! So for small amounts of noise, our overall distance estimate (for this particular problem) is not severly impacted.\n",
    "\n",
    "If we know something about our arena, we can place limits on the $n$ from above. Namely, $n \\in \\{1, \\dots, 8\\}$. However, this still gives too much uncertainty. So we should modulate the laser at two *relatively prime* frequencies so phase shifts will only coincide at a single unique distance.\n",
    "\n",
    "Pick $17$MHz, which gives $\\lambda = \\frac{c}{f} = 17.6471$. Then $D_2 = \\lambda \\frac{\\theta_2}{360} + m \\lambda$. Then we find $n, m \\in \\mathbb Z$ for which $\\lambda \\frac{\\theta_1}{360} + n \\lambda = \\lambda \\frac{\\theta_2}{360} + m \\lambda$. Note, however, that this requires a second phase shift measurement $\\theta_2$, which may have additional noise.\n",
    "\n",
    "In a noisy system, we may (will) not have an exact equality between $D_1$ and $D_2$, so we'd have to find values of $n$ and $m$ for which they agree within some tolerance. We'd have to determine the tolerance based on the size of our arena (the scale at which we're working at) and the amount of noise we believe we see."
   ]
  },
  {
   "cell_type": "markdown",
   "metadata": {},
   "source": [
    "## Problem 10.1\n",
    "\n",
    "Assume you have a laser triangulation system as shown in Fig. 10.2 given by (10.1) and that $f=8$mm, $b=30$cm. What are the ranges for $\\alpha$ and $u$ if we need to measure target distances in a region (in cm) $20<z<100$ and $10<x<30$?\n",
    "\n",
    "$$x = \\frac{b u}{f\\cot \\alpha + u},  \\quad\n",
    "  z = \\frac{b f}{f\\cot \\alpha + u}$$\n",
    "  \n",
    "![Fig 10.2](figures/lasertriangulation2.svg)"
   ]
  },
  {
   "cell_type": "markdown",
   "metadata": {},
   "source": [
    "This is an exercise in $\\LaTeX$ (a.k.a., algebra).\n",
    "\n",
    "We have\n",
    "\n",
    "$$\\begin{cases}\n",
    "x &= \\frac{bu}{f \\cot \\alpha + u} \\\\\n",
    "z &= \\frac{bf}{f \\cot \\alpha + u}\n",
    "\\end{cases}$$\n",
    "\n",
    "Solve this system of equations for $u$ and $\\alpha$, then find the minimum and maximum values for $u$ and $\\alpha$ as $x$ and $z$ range over the given domain.\n",
    "\n",
    "Starting with $z$, we have\n",
    "\n",
    "$$\\begin{align*}\n",
    "z &= \\frac{bf}{f \\cot \\alpha + u} \\\\\n",
    "z(f \\cot \\alpha + u) &= bf \\\\\n",
    "zu &= bf - zf \\cot \\alpha \\\\\n",
    "u &= \\frac{bf}{z} - f \\cot \\alpha\n",
    "\\end{align*}$$\n",
    "\n",
    "Then substitute $u = \\frac{bf}{z} - f \\cot \\alpha$ into\n",
    "\n",
    "$$\\require{cancel}\\begin{align*}\n",
    "x &= \\frac{bu}{f \\cot \\alpha + u} \\\\\n",
    "  &= \\frac{b\\left(\\frac{bf}{z} - f \\cot \\alpha\\right)}{f \\cot \\alpha + \\frac{bf}{z} - f \\cot \\alpha} \\\\\n",
    "  &= \\frac{\\bcancel{f}b \\left(\\frac{b}{z} - \\cot \\alpha\\right)}{\\bcancel{f}\\left(\\cancel{\\cot \\alpha} + \\frac{b}{z} - \\cancel{\\cot \\alpha}\\right)} \\\\\n",
    "  &= \\frac{b \\left(\\frac{b}{z} - \\cot \\alpha\\right)}{\\left(\\frac{b}{z}\\right)} \\\\\n",
    "  &= \\frac{\\frac{b^2}{z} - b \\cot \\alpha}{\\frac{b}{z}} \\\\\n",
    "  &= \\frac{z}{b}\\left(\\frac{b^2}{z} - b \\cot \\alpha\\right) \\\\\n",
    "  &= b - z \\cot \\alpha \\\\\n",
    "z \\cot \\alpha &= b - x \\\\\n",
    "\\cot \\alpha &= \\frac{b - x}{z} \\\\\n",
    "\\alpha &= \\cot^{-1}\\left(\\frac{b - x}{z}\\right)\n",
    "\\end{align*}$$\n",
    "\n",
    "So barring any algebra mistakes, we have the new (old, with new look) system of equations\n",
    "\n",
    "$$\\begin{cases}\n",
    "u &= \\frac{fx}{z} \\\\\n",
    "\\alpha &= \\cot^{-1}\\left(\\frac{b - x}{z}\\right)\n",
    "\\end{cases}$$\n",
    "\n",
    "Now we can range over $10 < x < 30$ and $20 < z < 100$ to find the minimum and maximum values of $u$ and $\\alpha$."
   ]
  },
  {
   "cell_type": "markdown",
   "metadata": {},
   "source": [
    "Since $b = 30$cm and $f = 0.8$cm, our system of equations only has two unknowns. Further, each component is relatively simple, so the minimum and maximum values of $u$ and $\\alpha$ can be immediately picked out.\n",
    "\n",
    "Since $x$ and $z$ are both positive, $u$ will have its minimum value at $(x, z) = (10, 100)$ of $\\frac{0.8 \\cdot 10}{100} = 0.08$ and its maximum value at $(x, z) = (30, 20)$ of $\\frac{0.8 \\cdot 30}{20} = 1.2$.\n",
    "\n",
    "Similarly, since $\\cot^{-1} x$ is strictly positive and monotonically decreasing over $x \\in[0, \\infty)$, $\\alpha$ is greatest as the smallest value of $\\frac{b - x}{z}$ and least at the largest value of $\\frac{b - x}{z}$. So the largest value of $\\alpha$ is $\\cot^{-1}(0) = \\frac{\\pi}{2}$, and the smallest value of $\\alpha$ is $\\cot^{-1}\\left(\\frac{30 - 10}{20}\\right) = \\cot^{1} = \\frac{\\pi}{4}$.\n",
    "\n",
    "So in summary, we found\n",
    "\n",
    "$$\\begin{cases}\n",
    "u &= \\frac{fx}{z} \\\\\n",
    "\\alpha &= \\cot^{-1}\\left(\\frac{b - x}{z}\\right)\n",
    "\\end{cases}$$\n",
    "\n",
    "where $0.08 < u < 1.2$ and $\\frac{\\pi}{4} < \\alpha < \\frac{\\pi}{2}$."
   ]
  },
  {
   "cell_type": "markdown",
   "metadata": {},
   "source": [
    "## Problem 10.2\n",
    "\n",
    "Assume you have two cameras that are calibrated into a stereo pair with a baseline of $10$cm, and focal depth of $7$mm. If the error is $10\\%$ on $v_1$ and $v_2$, $v_1=2$mm and $v_2=3$mm, what is the error on the depth measurement $z$? Your answer should be a percentage relative to the error free number. Hint: If $v_1=2$ then a $10\\%$ error ranges from $1.8$ to $2.2$. (Although not required, another way to approach this problem is the total differential from calculus.)"
   ]
  },
  {
   "cell_type": "markdown",
   "metadata": {},
   "source": [
    "Similar to problem 10.1, let $1.8 < v_1 < 2.2$ and $2.7 < v_2 < 3.3$ and determine the range of values $x$ and $z$ take.\n",
    "\n",
    "$$\\begin{cases}\n",
    "x &= \\frac{v_1 b}{v_1 + v_2} \\\\\n",
    "z &= \\frac{fb}{v_1 + v_2}\n",
    "\\end{cases}$$\n",
    "\n",
    "Because the denominator of each of these fractions contains *both* $v_1$ and $v_2$, we can expect some curvature in the plotted surfaces. This means that we cannot just plug in the boundary of the domain and expect to find the extrema. However, if we look at the plot of $x(v_1, v_2)$ and $z(v_1, v_2)$ it appears we get lucky and can easily pick out the extrema. Wolfram Alpha agrees."
   ]
  },
  {
   "cell_type": "code",
   "execution_count": null,
   "metadata": {},
   "outputs": [],
   "source": [
    "# Change units from mm to cm.\n",
    "v1 = np.linspace(0.18, 0.22, 10)\n",
    "v2 = np.linspace(0.27, 0.33, 10)\n",
    "\n",
    "v1, v2 = np.meshgrid(v1, v2)\n",
    "\n",
    "x = v1 * 10 / (v1 + v2)\n",
    "z = 0.7 * 10 / (v1 + v2)"
   ]
  },
  {
   "cell_type": "code",
   "execution_count": null,
   "metadata": {},
   "outputs": [],
   "source": [
    "print(f'min x = {x.min()}, max x = {x.max()}')\n",
    "print(f'min z = {z.min()}, max z = {z.max()}')"
   ]
  },
  {
   "cell_type": "code",
   "execution_count": null,
   "metadata": {},
   "outputs": [],
   "source": [
    "fig = plt.figure(figsize=(10, 10))\n",
    "ax = fig.add_subplot(111, projection='3d')\n",
    "ax.view_init(azim=45, elev=30)\n",
    "\n",
    "plt.title('$x$ as a function of $v_1$ and $v_2$')\n",
    "ax.plot_surface(v1, v2, x, linewidth=0, alpha=0.8)\n",
    "# ax.plot_surface(v1, v2, x.min() + np.zeros_like(v1), linewidth=0, alpha=0.3, color='k')\n",
    "# ax.plot_surface(v1, v2, x.max() + np.zeros_like(v1), linewidth=0, alpha=0.3, color='k')\n",
    "\n",
    "ax.set_xlabel('$v_1$')\n",
    "ax.set_ylabel('$v_2$')\n",
    "ax.set_zlabel('$x$')\n",
    "\n",
    "plt.show()"
   ]
  },
  {
   "cell_type": "code",
   "execution_count": null,
   "metadata": {},
   "outputs": [],
   "source": [
    "fig = plt.figure(figsize=(10, 10))\n",
    "ax = fig.add_subplot(111, projection='3d')\n",
    "# ax.view_init(azim=45, elev=30)\n",
    "\n",
    "plt.title('$z$ as a function of $v_1$ and $v_2$')\n",
    "ax.plot_surface(v1, v2, z, linewidth=0, alpha=0.8)\n",
    "# ax.plot_surface(v1, v2, z.min() + np.zeros_like(v1), linewidth=0, alpha=0.3, color='k')\n",
    "# ax.plot_surface(v1, v2, z.max() + np.zeros_like(v1), linewidth=0, alpha=0.3, color='k')\n",
    "\n",
    "ax.set_xlabel('$v_1$')\n",
    "ax.set_ylabel('$v_2$')\n",
    "ax.set_zlabel('$z$')\n",
    "\n",
    "plt.show()"
   ]
  },
  {
   "cell_type": "code",
   "execution_count": null,
   "metadata": {},
   "outputs": [],
   "source": [
    "print(12.727 / 14)\n",
    "print(15.556 / 14)"
   ]
  },
  {
   "cell_type": "markdown",
   "metadata": {},
   "source": [
    "The minimum of $z(v_1, v_2)$ can be found at $(v_1, v_2) = (0.22, 0.33)$ with value $z = 12.\\overline{72}$. The maximum occurs at $(v_1, v_2) = (0.18, 0.27)$ with value $z = 15.\\overline{55}$.\n",
    "\n",
    "So $z$ has range $12.727 < z < 15.556$ with $10\\%$ error on both $v_1$ and $v_2$. The actual value is $z = 14$cm.\n",
    "\n",
    "Since percentages are hard, I always have to do\n",
    "\n",
    "$$14 p_l = 12.727$$\n",
    "\n",
    "and\n",
    "\n",
    "$$14 p_h = 15.556$$\n",
    "\n",
    "to get proportions $p_l = 0.909$ and $p_h = 1.111$. In the region close to the actual value of $z = 14$cm, we can assume linearity, and claim that the error in the measured $z$ value versus the actual value is $\\sim 10\\%$. But note that the error is will grow as $v_1$ and $v_2$ decrease due to the curvature of the surface, which becomes dramatic for larger ranges of $v_1$ and $v_2$."
   ]
  }
 ],
 "metadata": {
  "kernelspec": {
   "display_name": "Python 3",
   "language": "python",
   "name": "python3"
  },
  "language_info": {
   "codemirror_mode": {
    "name": "ipython",
    "version": 3
   },
   "file_extension": ".py",
   "mimetype": "text/x-python",
   "name": "python",
   "nbconvert_exporter": "python",
   "pygments_lexer": "ipython3",
   "version": "3.6.6"
  }
 },
 "nbformat": 4,
 "nbformat_minor": 2
}
