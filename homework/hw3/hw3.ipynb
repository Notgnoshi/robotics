{
 "cells": [
  {
   "cell_type": "markdown",
   "metadata": {},
   "source": [
    "# Homework 3\n",
    "\n",
    "Austin Gill\n",
    "\n",
    "Problems:\n",
    "\n",
    "* 5: 2, 10abd\n",
    "* 6: 5, 8\n",
    "* Text addition\n",
    "\n",
    "---"
   ]
  },
  {
   "cell_type": "code",
   "execution_count": null,
   "metadata": {},
   "outputs": [],
   "source": [
    "%config InlineBackend.figure_format = 'svg'\n",
    "%matplotlib inline\n",
    "\n",
    "import numpy as np\n",
    "import matplotlib.pyplot as plt\n",
    "import seaborn as sns\n",
    "\n",
    "sns.set()"
   ]
  },
  {
   "cell_type": "markdown",
   "metadata": {},
   "source": [
    "## Problem 5.2\n",
    "\n",
    "Using Veranda and the basic motion algorithm, place a set of obstacles that cause the robot to cycle and not find the goal. In other words, build a robot trap."
   ]
  },
  {
   "cell_type": "markdown",
   "metadata": {},
   "source": [
    "## Problem 5.10\n",
    "\n",
    "In Veranda and Python, implement\n",
    "\n",
    "1. Bug 1\n",
    "2. Bug 2\n",
    "3. Tangent Bug\n",
    "\n",
    "Screen capture the result."
   ]
  },
  {
   "cell_type": "markdown",
   "metadata": {},
   "source": [
    "## Problem 6.5\n",
    "Real motion and measurement involves error and this problem will introduce the concepts. Assume that you have a differential drive robot with wheels that are 20cm in radius and $L$ is 12cm. Using the differential drive code (forward kinematics) from the text, develop code to simulate the robot motion when the wheel velocities are $\\dot\\phi_1 = 0.25 t^2$, $\\dot\\phi_2 = 0.5t$. The starting location is $(0, 0)$ with $\\theta = 0$.\n",
    "\n",
    "1. Plot the path of the robot on $0 \\leq t \\leq 5$. It should end up somewhere near $(50, 60)$.\n",
    "\n",
    "2. Assume that you have Gaussian noise added to the omegas each time you evaluate the velocity (each time step). Test with $\\mu=0$ and $\\sigma=0.3$. Write the final location $(x,y)$ to a file and repeat for 100 simulations. Hint:\n",
    "\n",
    "  ```python\n",
    "  mu, sigma = 0.0, 0.3\n",
    "  xerr = np.random.normal(mu,sigma, NumP)\n",
    "  yerr = np.random.normal(mu,sigma, NumP)\n",
    "  ```\n",
    "\n",
    "3. Generate a plot that includes the noise free robot path and the final locations for the simulations with noise. Hint:\n",
    "\n",
    "  ```python\n",
    "  import numpy as np\n",
    "  import pylab as plt\n",
    "  ...\n",
    "  plt.plot(xpath,ypath, 'b-', x,y, 'r.')\n",
    "  plt.xlim(-10, 90)\n",
    "  plt.ylim(-20, 80)\n",
    "  plt.show()\n",
    "  ```\n",
    "\n",
    "4. Find the location means and 2x2 covariance matrix for this data set, and compute the eigenvalues and eigenvectors of the matrix. Find the ellipse that these generate. [The major and minor axes directions are given by the eigenvectors. Show the point cloud of final locations and the ellipse in a graphic (plot the data and the ellipse). Hint:\n",
    "\n",
    "  ```python\n",
    "  from scipy import linalg\n",
    "  from matplotlib.patches import Ellipse\n",
    "\n",
    "  # assume final locations are in x & y\n",
    "  mat = np.array([x,y])\n",
    "  # find covariance matrix\n",
    "  cmat = np.cov(mat)\n",
    "  # compute eigenvals and eigenvects of covariance\n",
    "  eval, evec = linalg.eigh(cmat)\n",
    "  # find ellipse rotation angle\n",
    "  angle = 180 * atan2(evec[0, 1], evec[0, 0]) / np.pi\n",
    "  # create ellipse\n",
    "  ell = Ellipse((np.mean(x), np.mean(y)), eval[0], eval[1], angle)\n",
    "  # make the ellipse subplot\n",
    "  a = plt.subplot(111, aspect='equal')\n",
    "  ell.set_alpha(0.1) # make the ellipse lighter\n",
    "  a.add_artist(ell)  # add this to the plot\n",
    "  ```"
   ]
  },
  {
   "cell_type": "markdown",
   "metadata": {},
   "source": [
    "## Problem 6.10\n",
    "In Veranda, drive a mecanum robot in an $\\infty$ symbol. Record the results."
   ]
  }
 ],
 "metadata": {
  "kernelspec": {
   "display_name": "Python 3",
   "language": "python",
   "name": "python3"
  },
  "language_info": {
   "codemirror_mode": {
    "name": "ipython",
    "version": 3
   },
   "file_extension": ".py",
   "mimetype": "text/x-python",
   "name": "python",
   "nbconvert_exporter": "python",
   "pygments_lexer": "ipython3",
   "version": "3.6.6"
  }
 },
 "nbformat": 4,
 "nbformat_minor": 2
}
