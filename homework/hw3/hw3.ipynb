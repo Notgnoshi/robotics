{
 "cells": [
  {
   "cell_type": "markdown",
   "metadata": {},
   "source": [
    "# Homework 3\n",
    "\n",
    "Austin Gill\n",
    "\n",
    "Problems:\n",
    "\n",
    "* 5: 2, 10abd\n",
    "* 6: 5, 8\n",
    "* Text addition\n",
    "\n",
    "---"
   ]
  },
  {
   "cell_type": "code",
   "execution_count": null,
   "metadata": {},
   "outputs": [],
   "source": [
    "# %config InlineBackend.figure_format = 'png'\n",
    "%config InlineBackend.figure_format = 'svg'\n",
    "%matplotlib inline\n",
    "\n",
    "import numpy as np\n",
    "import matplotlib.pyplot as plt\n",
    "# Increase the quality of PNG images\n",
    "# import matplotlib as mpl\n",
    "# mpl.rcParams['figure.dpi']= 120\n",
    "from scipy.integrate import solve_ivp\n",
    "import seaborn as sns\n",
    "\n",
    "sns.set()"
   ]
  },
  {
   "cell_type": "markdown",
   "metadata": {},
   "source": [
    "## Problem 6.5\n",
    "Real motion and measurement involves error and this problem will introduce the concepts. Assume that you have a differential drive robot with wheels that are 20cm in radius and $L$ is 12cm. Using the differential drive code (forward kinematics) from the text, develop code to simulate the robot motion when the wheel velocities are $\\dot\\phi_1 = 0.25 t^2$, $\\dot\\phi_2 = 0.5t$. The starting location is $(0, 0)$ with $\\theta = 0$.\n",
    "\n",
    "1. Plot the path of the robot on $0 \\leq t \\leq 5$. It should end up somewhere near $(50, 60)$.\n",
    "2. Assume that you have Gaussian noise added to the omegas each time you evaluate the velocity (each time step). Test with $\\mu=0$ and $\\sigma=0.3$. Write the final location $(x,y)$ to a file and repeat for 100 simulations.\n",
    "3. Generate a plot that includes the noise free robot path and the final locations for the simulations with noise.\n",
    "4. Find the location means and 2x2 covariance matrix for this data set, and compute the eigenvalues and eigenvectors of the matrix. Find the ellipse that these generate. The major and minor axes directions are given by the eigenvectors. Show the point cloud of final locations and the ellipse in a graphic (plot the data and the ellipse)."
   ]
  },
  {
   "cell_type": "markdown",
   "metadata": {},
   "source": [
    "We run the wheel speeds through a poor-man's numerical integration routine"
   ]
  },
  {
   "cell_type": "code",
   "execution_count": null,
   "metadata": {},
   "outputs": [],
   "source": [
    "r = 20\n",
    "L = 12\n",
    "# Our initial position\n",
    "x0 = np.array([0, 0, 0])\n",
    "# The time step to use when integrating\n",
    "STEP = 0.05"
   ]
  },
  {
   "cell_type": "code",
   "execution_count": null,
   "metadata": {},
   "outputs": [],
   "source": [
    "def speeds(t):\n",
    "    \"\"\"Returns the (r, l) speeds at the given time\"\"\"\n",
    "    return 0.25 * t**2, 0.5 * t"
   ]
  },
  {
   "cell_type": "code",
   "execution_count": null,
   "metadata": {},
   "outputs": [],
   "source": [
    "def x_dot(w1, w2, theta):\n",
    "    \"\"\"x time derivative for diff. drive forward kinematics\"\"\"\n",
    "    return (r / 2) * (w1 + w2) * np.cos(theta)\n",
    "\n",
    "def y_dot(w1, w2, theta):\n",
    "    \"\"\"y time derivative for diff. drive forward kinematics\"\"\"\n",
    "    return (r / 2) * (w1 + w2) * np.sin(theta)\n",
    "\n",
    "def theta_dot(w1, w2):\n",
    "    \"\"\"theta time derivative for diff. drive forward kinematics\"\"\"\n",
    "    return (r / (2 * L)) * (w1 - w2)"
   ]
  },
  {
   "cell_type": "code",
   "execution_count": null,
   "metadata": {},
   "outputs": [],
   "source": [
    "def positions(x0):\n",
    "    \"\"\"Runs poor-man's integration to find robot position, given its initial position\"\"\"\n",
    "    for t in np.arange(0, 5+STEP, STEP):\n",
    "        # Get the wheel speeds at the given time\n",
    "        w1, w2 = speeds(t)\n",
    "        # Fun fact: x0 += x appends x to x0, not adds x to x0!\n",
    "        x0 = x0 + np.array([STEP * x_dot(w1, w2, x0[2]), STEP * y_dot(w1, w2, x0[2]), STEP * theta_dot(w1, w2)])\n",
    "        yield x0"
   ]
  },
  {
   "cell_type": "code",
   "execution_count": null,
   "metadata": {},
   "outputs": [],
   "source": [
    "# Convert the generator to a list of 3-tuples of position points\n",
    "points = list(positions(x0))\n",
    "# Convert to vectors of x and y for ease of plotting.\n",
    "x = np.array([point[0] for point in points])\n",
    "y = np.array([point[1] for point in points])\n",
    "theta = np.array([point[2] for point in points])\n",
    "\n",
    "print('Final position: ({}, {})'.format(x[-1], y[-1]))"
   ]
  },
  {
   "cell_type": "code",
   "execution_count": null,
   "metadata": {},
   "outputs": [],
   "source": [
    "plt.plot(x, y)\n",
    "plt.title('Robot position for $0 \\leq t \\leq 5$')\n",
    "plt.xlabel('$x$')\n",
    "plt.ylabel('$y$')\n",
    "plt.show()"
   ]
  },
  {
   "cell_type": "markdown",
   "metadata": {},
   "source": [
    "For fun, I wanted to try out a better integration technique than Eulers Method. For this, [`scipy.integrate.solve_ivp`](https://scipy.github.io/devdocs/generated/scipy.integrate.solve_ivp.html) is the tool to use to solve this system of ODEs. The `solve_ivp` routine takes in a function $f(t, \\vec y)$, the time range $t_a \\leq t \\leq t_b$, and the initial condition $\\vec y_0$, in order to solve the system of ordinary differential equations\n",
    "$$\\frac{\\mathrm{d}\\vec y}{\\mathrm{d}t} = f(t \\vec y)$$\n",
    "For our problem, this is\n",
    "$$\\begin{pmatrix}\\frac{\\mathrm d x}{\\mathrm d t} \\\\ \\frac{\\mathrm dy}{\\mathrm dt} \\\\ \\frac{\\mathrm d\\theta}{\\mathrm dt}\\end{pmatrix} = f(t, \\langle x, y, \\theta \\rangle)$$\n",
    "where $f$ is a function returning a vector of time-derivatives of the state variables.\n",
    "\n",
    "So in Python, we have the following function to integrate:"
   ]
  },
  {
   "cell_type": "code",
   "execution_count": null,
   "metadata": {},
   "outputs": [],
   "source": [
    "def ode_system(t, y):\n",
    "    \"\"\"Return a vector of time-derivatives at a given time and position.\n",
    "    \n",
    "    :param t: The current time step when integrating.\n",
    "    :param y: A vector of current step estimates of the state variables during the integration.\n",
    "    \"\"\"\n",
    "    # The wheel speeds are nicely parameterized\n",
    "    w1, w2 = speeds(t)\n",
    "\n",
    "    # I already have nifty FK functions for each of the time derivatives, so use them directly.\n",
    "    xp = x_dot(w1, w2, y[2])\n",
    "    yp = y_dot(w1, w2, y[2])\n",
    "    tp = theta_dot(w1, w2)\n",
    "\n",
    "    # Return a vector of derivatives of the same shape as y.\n",
    "    return xp, yp, tp"
   ]
  },
  {
   "cell_type": "code",
   "execution_count": null,
   "metadata": {},
   "outputs": [],
   "source": [
    "# Integrate the system from 0 to 5 with the initial condition (0, 0, 0)\n",
    "result = solve_ivp(ode_system, (0, 5), (0, 0, 0), t_eval=np.arange(0, 5+STEP, STEP))\n",
    "x_rk4, y_rk4, theta_rk4 = result.y\n",
    "print('Final Position: ({}, {})'.format(x_rk4[-1], y_rk4[-1]))"
   ]
  },
  {
   "cell_type": "markdown",
   "metadata": {},
   "source": [
    "Now consider the following graph of the two paths."
   ]
  },
  {
   "cell_type": "code",
   "execution_count": null,
   "metadata": {},
   "outputs": [],
   "source": [
    "plt.plot(x, y, label='Path using Euler\\'s Method')\n",
    "plt.plot(x_rk4, y_rk4, label='Path using RK45')\n",
    "plt.title('Robot position for $0 \\leq t \\leq 5$')\n",
    "plt.xlabel('$x$')\n",
    "plt.ylabel('$y$')\n",
    "plt.legend()\n",
    "plt.show()"
   ]
  },
  {
   "cell_type": "code",
   "execution_count": null,
   "metadata": {},
   "outputs": [],
   "source": [
    "path1 = np.array([x, y, theta])\n",
    "path2 = np.array([x_rk4, y_rk4, theta_rk4])\n",
    "# isclose is a boolean ndarray, so use .all() to assert that all entries are True.\n",
    "print(np.isclose(path1, path2, rtol=0.1, atol=0.1).all())"
   ]
  },
  {
   "cell_type": "markdown",
   "metadata": {},
   "source": [
    "Now it is quite common that even hypothetical robots (due to their spiteful nature) do not follow exact paths. They rarely follow explicit instructions, so we should repeat this process by adding random noise to the wheel speeds.\n",
    "\n",
    "Note that if we really want the same result as adding a normal distribution with $\\mu = 0$ and $\\sigma = 0.3$ to the path points, we should apply some math to figure out what the $\\mu$ should be if we're applying the random noise to the wheel speeds. It has something to do with a Jacobian matrix multiplied by the covariance matrix, but Dr. McGough seemed to indicate that using $\\mu = 0.3$ on the wheel speeds was fine since he had already told some students to do so. So I'm going to ignore the fact that there's a little more math to do."
   ]
  },
  {
   "cell_type": "code",
   "execution_count": null,
   "metadata": {},
   "outputs": [],
   "source": [
    "def noisy_speeds(t):\n",
    "    \"\"\"Returns the (r, l) wheel speeds at the given time, with some amount of additive noise.\"\"\"\n",
    "    mu, sigma = 0.0, 0.3\n",
    "    w1, w2 = speeds(t)\n",
    "    return w1 + np.random.normal(mu, sigma), w2 + np.random.normal(mu, sigma)"
   ]
  },
  {
   "cell_type": "markdown",
   "metadata": {},
   "source": [
    "Now we repeat the integration process to find the robot path"
   ]
  },
  {
   "cell_type": "code",
   "execution_count": null,
   "metadata": {},
   "outputs": [],
   "source": [
    "def noisy_ode_system(t, y):\n",
    "    \"\"\"Return a vector of time-derivatives at a given time and position.\n",
    "    \n",
    "    :param t: The current time step when integrating.\n",
    "    :param y: A vector of current step estimates of the state variables during the integration.\n",
    "    \"\"\"\n",
    "    # The wheel speeds are nicely parameterized\n",
    "    w1, w2 = noisy_speeds(t)\n",
    "\n",
    "    # I already have nifty FK functions for each of the time derivatives, so use them directly.\n",
    "    xp = x_dot(w1, w2, y[2])\n",
    "    yp = y_dot(w1, w2, y[2])\n",
    "    tp = theta_dot(w1, w2)\n",
    "\n",
    "    # Return a vector of derivatives of the same shape as y.\n",
    "    return xp, yp, tp"
   ]
  },
  {
   "cell_type": "code",
   "execution_count": null,
   "metadata": {},
   "outputs": [],
   "source": [
    "# Integrate the system from 0 to 5 with the initial condition (0, 0, 0)\n",
    "result = solve_ivp(noisy_ode_system, (0, 5), (0, 0, 0), t_eval=np.arange(0, 5+STEP, STEP))\n",
    "n_x, n_y, n_theta = result.y\n",
    "print('Final Position: ({}, {})'.format(n_x[-1], n_y[-1]))"
   ]
  },
  {
   "cell_type": "code",
   "execution_count": null,
   "metadata": {},
   "outputs": [],
   "source": [
    "plt.plot(x_rk4, y_rk4, label='Noiseless path')\n",
    "plt.plot(n_x, n_y, label='Noisy path')\n",
    "plt.title('Robot position for $0 \\leq t \\leq 5$')\n",
    "plt.xlabel('$x$')\n",
    "plt.ylabel('$y$')\n",
    "plt.legend()\n",
    "plt.show()"
   ]
  },
  {
   "cell_type": "markdown",
   "metadata": {},
   "source": [
    "Now repeat for several iterations (go get a cup of coffee)"
   ]
  },
  {
   "cell_type": "code",
   "execution_count": null,
   "metadata": {},
   "outputs": [],
   "source": [
    "points = []\n",
    "for _ in range(100):\n",
    "    points.append(solve_ivp(noisy_ode_system, (0, 5), (0, 0, 0)).y)"
   ]
  },
  {
   "cell_type": "code",
   "execution_count": null,
   "metadata": {},
   "outputs": [],
   "source": [
    "for path in points:\n",
    "    x, y, theta = path\n",
    "    plt.plot(x, y)\n",
    "\n",
    "plt.title('Robot position for $0 \\leq t \\leq 5$')\n",
    "plt.xlabel('$x$')\n",
    "plt.ylabel('$y$')\n",
    "plt.show()"
   ]
  },
  {
   "cell_type": "markdown",
   "metadata": {},
   "source": [
    "Or more clearly, here is a plot of the noiseless path and all of the noisy path endpoints"
   ]
  },
  {
   "cell_type": "code",
   "execution_count": null,
   "metadata": {},
   "outputs": [],
   "source": [
    "exs = []\n",
    "eys = []\n",
    "for path in points:\n",
    "    x, y, theta = path\n",
    "    exs.append(x[-1])\n",
    "    eys.append(y[-1])\n",
    "\n",
    "plt.plot(exs, eys, 'r.', label='Noisy path endpoints')\n",
    "plt.plot(x_rk4, y_rk4, 'b-', label='Noiseless path')\n",
    "plt.title('Robot position for $0 \\leq t \\leq 5$')\n",
    "plt.legend()\n",
    "plt.xlabel('$x$')\n",
    "plt.ylabel('$y$')\n",
    "plt.show()"
   ]
  },
  {
   "cell_type": "markdown",
   "metadata": {},
   "source": [
    "Now, being a good math student, it's probably time to do some statistical stuffs to this data. So build the covariance matrix and plot the ellipse generated by the covariance matrice's eigenvectors."
   ]
  },
  {
   "cell_type": "code",
   "execution_count": null,
   "metadata": {},
   "outputs": [],
   "source": [
    "cmat = np.cov(np.array([exs, eys]))\n",
    "e, v = np.linalg.eigh(cmat)\n",
    "angle = (180 / np.pi) * np.arctan2(v[0, 1], v[0, 0])\n",
    "\n",
    "print(e)\n",
    "print(v)\n",
    "print(angle)"
   ]
  },
  {
   "cell_type": "code",
   "execution_count": null,
   "metadata": {},
   "outputs": [],
   "source": [
    "from matplotlib.patches import Ellipse\n",
    "ellipse = Ellipse((np.mean(exs), np.mean(eys)), e[0], e[1], angle, alpha=0.1)\n",
    "\n",
    "plt.plot(exs, eys, '.', label='Noisy endpoints')\n",
    "plt.plot(x_rk4[-1], y_rk4[-1], '.', label='Noiseless endpoint')\n",
    "plt.legend()\n",
    "plt.xlabel('$x$')\n",
    "plt.ylabel('$y$')\n",
    "plt.gca().add_patch(ellipse)\n",
    "plt.show()"
   ]
  },
  {
   "cell_type": "markdown",
   "metadata": {},
   "source": [
    "## Problem 6.8\n",
    "What are the wheel velocity formulas for a four wheel Mechanum robot, ($r=3$, $L_1=10$, $L_2=10$ all in cm) which drives in the elliptical path $\\frac{(x-3)^2}{16}+\\frac{(y-2)^2}{9}=1$ and always faces the center of the ellipse."
   ]
  },
  {
   "cell_type": "markdown",
   "metadata": {},
   "source": [
    "We have the parametric form of the ellipse as\n",
    "$$x(t) = 3 + 4 \\cos t$$\n",
    "$$y(t) = 2 + 3 \\sin t$$\n",
    "and\n",
    "$$\\theta(t) = \\phi(t) + \\pi$$\n",
    "\n",
    "where $\\phi(t) = \\arctan\\frac{y}{x}$ as shown in the figure below.\n",
    "\n",
    "![ellipse](ellipse/ellipse.svg)\n",
    "\n",
    "However, note that both $\\phi$ and therefore $\\theta$ do not depend on where the center of the ellipse is, so to make the math easier for computing $\\phi$, I move the center to the origin. Thus,\n",
    "$$\\theta(t) = \\pi + \\arctan\\frac{4 \\cos t}{3 \\sin t}$$"
   ]
  },
  {
   "cell_type": "code",
   "execution_count": null,
   "metadata": {},
   "outputs": [],
   "source": [
    "def ellipse(t):\n",
    "    return 3 + 4 * np.cos(t), 2 + 3 * np.sin(t)\n",
    "\n",
    "t = np.linspace(-np.pi - 0.1, np.pi + 0.1, 100)\n",
    "x, y = ellipse(t)\n",
    "# Shift the ellipse's center to the origin to avoid discontinuities in the the robot heading.\n",
    "phi = np.arctan2(y - 2, x - 3)\n",
    "\n",
    "plt.plot(t, phi)\n",
    "plt.plot([-np.pi, np.pi], [-np.pi, np.pi])\n",
    "plt.show()"
   ]
  },
  {
   "cell_type": "markdown",
   "metadata": {},
   "source": [
    "Notice that with $-\\pi \\leq t \\leq \\pi$ we avoid the discontinuities, and more importantly that the plot is almost linear. This makes sense because, were the ellipse actually a circle, $\\dot \\theta$ would be constant. Since it is an ellipse, there are slight variations in the derivative as the robot goes around the \"corners\" of the ellipse."
   ]
  },
  {
   "cell_type": "markdown",
   "metadata": {},
   "source": [
    "Now we need to differentiate $x$, $y$, and $\\theta$ with respect to $t$ in order to use the Mecanum inverse kinematics formula.\n",
    "\n",
    "$$\\dot x = -4 \\sin t$$\n",
    "$$\\dot y = 3 \\cos t$$\n",
    "$$\\dot \\theta = \\frac{12 \\sec^2 t}{9 \\tan^2 t + 16}$$\n",
    "\n",
    "We can do a quick sanity check by plotting to make sure it fits with our intuitive understanding of the problem."
   ]
  },
  {
   "cell_type": "code",
   "execution_count": null,
   "metadata": {},
   "outputs": [],
   "source": [
    "t = np.linspace(-np.pi, np.pi, 100)\n",
    "x, y = ellipse(t)\n",
    "theta = np.arctan2(y, x)\n",
    "\n",
    "xp = -4 * np.sin(t)\n",
    "yp = 3 * np.cos(t)\n",
    "thetap = (12 * (1 / np.cos(t))**2) / (9 * np.tan(t)**2 + 16)\n",
    "\n",
    "plt.plot(t, xp, label=r'$\\dot x$')\n",
    "plt.plot(t, yp, label=r'$\\dot y$')\n",
    "plt.plot(t, thetap, label=r'$\\dot \\theta$')\n",
    "\n",
    "plt.legend()\n",
    "plt.show()"
   ]
  },
  {
   "cell_type": "markdown",
   "metadata": {},
   "source": [
    "The $\\dot x$ and $\\dot y$ plots definitely fit my understanding of the problem, and $\\dot \\theta$ makes sense because there will be a decrease in the derivative while the robot goes around the \"fat\" corners, and a slight increase in the derivative while the robot goes around the \"skinny\" corners."
   ]
  },
  {
   "cell_type": "markdown",
   "metadata": {},
   "source": [
    "Now to run the inverse kinematics, which is really just an exercise in patience with $\\LaTeX$.\n",
    "\n",
    "$$\\begin{bmatrix}\n",
    "    \\dot{\\phi}_{FL} \\\\\n",
    "    \\dot{\\phi}_{FR} \\\\\n",
    "    \\dot{\\phi}_{BL} \\\\\n",
    "    \\dot{\\phi}_{BR}\n",
    "\\end{bmatrix} =  \\frac{1}{r}\n",
    "\\begin{bmatrix}\n",
    "    1 & -1 & -(L_1+L_2) \\\\\n",
    "    1 & 1 & (L_1+L_2)   \\\\\n",
    "    1 & 1 & -(L_1+L_2)  \\\\\n",
    "    1 & -1 & (L_1+L_2)\n",
    "\\end{bmatrix}\n",
    "\\begin{bmatrix}\n",
    "    \\cos(\\theta) \\dot{x} + \\sin(\\theta)\\dot{y} \\\\\n",
    "    -\\sin(\\theta)\\dot{x} + \\cos(\\theta)\\dot{y} \\\\\n",
    "    \\dot{\\theta}\n",
    "\\end{bmatrix} = \\frac{1}{r}\n",
    "\\begin{bmatrix}\n",
    "    \\cos(\\theta) \\dot{x} + \\sin(\\theta)\\dot{y} + \\sin(\\theta)\\dot{x} - \\cos(\\theta)\\dot{y} -(L_1+L_2)\\dot{\\theta} \\\\\n",
    "    \\cos(\\theta) \\dot{x} + \\sin(\\theta)\\dot{y} - \\sin(\\theta)\\dot{x} + \\cos(\\theta)\\dot{y} +(L_1+L_2)\\dot{\\theta} \\\\\n",
    "    \\cos(\\theta) \\dot{x} + \\sin(\\theta)\\dot{y} - \\sin(\\theta)\\dot{x} + \\cos(\\theta)\\dot{y} -(L_1+L_2)\\dot{\\theta} \\\\\n",
    "    \\cos(\\theta) \\dot{x} + \\sin(\\theta)\\dot{y} + \\sin(\\theta)\\dot{x} - \\cos(\\theta)\\dot{y} +(L_1+L_2)\\dot{\\theta}\n",
    "\\end{bmatrix}$$\n",
    "\n",
    "where $r = 3$, and $L_1 = L_2 = 10$, and\n",
    "\n",
    "$$\\begin{align*}\n",
    "    \\dot x &= -4 \\sin t \\\\\n",
    "    \\dot y &= 3 \\cos t \\\\\n",
    "    \\dot \\theta &= \\frac{12 \\sec^2 t}{9 \\tan^2 t + 16} \\\\\n",
    "    \\theta(t) &= \\pi + \\arctan\\frac{4 \\cos t}{3 \\sin t}\n",
    "\\end{align*}$$"
   ]
  },
  {
   "cell_type": "code",
   "execution_count": null,
   "metadata": {},
   "outputs": [],
   "source": [
    "def x_dot(t):\n",
    "    return -4 * np.sin(t)\n",
    "def y_dot(t):\n",
    "    return 3 * np.cos(t)\n",
    "def theta_dot(t):\n",
    "    return (12 * (1 / np.cos(t))**2) / (9 * np.tan(t)**2 + 16)\n",
    "def theta(t):\n",
    "    return np.pi + np.arctan2(4 * np.cos(t), 3 * np.sin(t))"
   ]
  },
  {
   "cell_type": "code",
   "execution_count": null,
   "metadata": {},
   "outputs": [],
   "source": [
    "def mecanum_ik(t):\n",
    "    r = 3\n",
    "    L1 = L2 = 10\n",
    "    # Avoid recomputations\n",
    "    xd = x_dot(t)\n",
    "    yd = y_dot(t)\n",
    "    thd = theta_dot(t)\n",
    "    th = theta(t)\n",
    "    s = np.sin(th)\n",
    "    c = np.cos(th)\n",
    "    \n",
    "    return (1 / r) * np.array([\n",
    "        c * xd + s * yd + s * xd - c * yd - (L1 + L2) * thd,\n",
    "        c * xd + s * yd - s * xd + c * yd + (L1 + L2) * thd,\n",
    "        c * xd + s * yd - s * xd + c * yd - (L1 + L2) * thd,\n",
    "        c * xd + s * yd + s * xd - c * yd + (L1 + L2) * thd,\n",
    "    ])"
   ]
  },
  {
   "cell_type": "code",
   "execution_count": null,
   "metadata": {},
   "outputs": [],
   "source": [
    "t = np.linspace(-np.pi, np.pi, 100)\n",
    "fl, fr, bl, br = mecanum_ik(t)"
   ]
  },
  {
   "cell_type": "code",
   "execution_count": null,
   "metadata": {},
   "outputs": [],
   "source": [
    "plt.title('Mecanum elliptic path wheel speeds')\n",
    "plt.plot(t, fl, label='front left')\n",
    "plt.plot(t, fr, label='front right')\n",
    "plt.plot(t, bl, label='back left')\n",
    "plt.plot(t, br, label='back right')\n",
    "plt.xlabel('$t$')\n",
    "plt.ylabel('$\\dot\\phi$')\n",
    "plt.legend()\n",
    "plt.show()"
   ]
  },
  {
   "cell_type": "markdown",
   "metadata": {},
   "source": [
    "Intuitively, this plot makes sense, because as the robot moves around, each wheel needs to change direction at certain points, and due to the direction of the path, the right wheels will need to go faster than the left wheels."
   ]
  }
 ],
 "metadata": {
  "kernelspec": {
   "display_name": "Python 3",
   "language": "python",
   "name": "python3"
  },
  "language_info": {
   "codemirror_mode": {
    "name": "ipython",
    "version": 3
   },
   "file_extension": ".py",
   "mimetype": "text/x-python",
   "name": "python",
   "nbconvert_exporter": "python",
   "pygments_lexer": "ipython3",
   "version": "3.5.2"
  }
 },
 "nbformat": 4,
 "nbformat_minor": 2
}
