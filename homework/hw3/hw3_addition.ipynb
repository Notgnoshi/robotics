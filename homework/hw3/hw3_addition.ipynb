{
 "cells": [
  {
   "cell_type": "markdown",
   "metadata": {},
   "source": [
    "# Numerical integration with Python\n",
    "\n",
    "In the text, [Euler's Method](http://roboscience.org/book/html/Simulation/MovingDifferential.html#a-numerical-approach) is used to numerically integrate the differential drive forward kinematics in order to find a path through the workspace given by some path through the configuration space. This is an exposition of numerical integration topics related to solving systems of ODEs."
   ]
  },
  {
   "cell_type": "markdown",
   "metadata": {},
   "source": [
    "First, we need to get some notation down. We need to represent the differential drive forward kinematic equations as a system of differential equations with the form\n",
    "\n",
    "$$\\frac{\\mathrm d \\vec y}{\\mathrm d t} = f(t, \\vec y)$$\n",
    "\n",
    "Where\n",
    "\n",
    "$$\\vec y = \\begin{bmatrix}\n",
    "    y_1(t) \\\\\n",
    "    y_2(t) \\\\\n",
    "    \\vdots \\\\\n",
    "    y_n(t)\n",
    "\\end{bmatrix}$$\n",
    "\n",
    "is the vector of state variables, and\n",
    "\n",
    "$$\\frac{\\mathrm d \\vec y}{\\mathrm d t} = \\begin{bmatrix}\n",
    "    \\frac{\\mathrm d y_1}{\\mathrm d t} \\\\\n",
    "    \\frac{\\mathrm d y_2}{\\mathrm d t} \\\\\n",
    "    \\vdots                            \\\\\n",
    "    \\frac{\\mathrm d y_n}{\\mathrm d t}\n",
    "\\end{bmatrix}$$\n",
    "\n",
    "is the vector of their time derivatives. So in total, we have a system of first order ODEs of the form\n",
    "\n",
    "$$\\begin{bmatrix}\n",
    "    \\frac{\\mathrm d y_1}{\\mathrm d t} \\\\\n",
    "    \\frac{\\mathrm d y_2}{\\mathrm d t} \\\\\n",
    "    \\vdots                            \\\\\n",
    "    \\frac{\\mathrm d y_n}{\\mathrm d t}\n",
    "\\end{bmatrix} = \\begin{bmatrix}\n",
    "    f_1(t, y_1, y_2, \\dots, y_n) \\\\\n",
    "    f_2(t, y_1, y_2, \\dots, y_n) \\\\\n",
    "    \\vdots                       \\\\\n",
    "    f_n(t, y_1, y_2, \\dots, y_n)\n",
    "\\end{bmatrix}$$\n",
    "\n",
    "Notice that the differential drive forward kinematics have precisely this form when we write $\\dot \\phi_1$ and $\\dot \\phi_2$ as functions of $t$!\n",
    "\n",
    "$$\\begin{bmatrix}\n",
    "    \\frac{\\mathrm d x}{\\mathrm d t} \\\\\n",
    "    \\frac{\\mathrm d y}{\\mathrm d t} \\\\\n",
    "    \\frac{\\mathrm d \\theta}{\\mathrm d t}\n",
    "\\end{bmatrix} = \\begin{bmatrix}\n",
    "    \\frac{r}{2} \\left(\\dot \\phi_1(t) + \\dot \\phi_2(t)\\right) \\cos \\theta \\\\\n",
    "    \\frac{r}{2} \\left(\\dot \\phi_1(t) + \\dot \\phi_2(t)\\right) \\sin \\theta \\\\\n",
    "    \\frac{r}{2L}\\left(\\dot \\phi_1(t) - \\dot \\phi_2(t)\\right)\n",
    "\\end{bmatrix}$$"
   ]
  },
  {
   "cell_type": "markdown",
   "metadata": {},
   "source": [
    "## Eulers Method\n",
    "\n",
    "The [book](http://roboscience.org/book/html/Simulation/MovingDifferential.html#a-numerical-approach) walks through the discretization and formulation of Euler's Method. Here's a quick summary.\n",
    "\n",
    "We discretize $t$ by chunking it with step size $\\Delta t$. This produces the discretized forward kinematics formulas\n",
    "\n",
    "$$\\begin{array}{l}\n",
    "    x_{k+1} = x_k + \\frac{r\\Delta t}{2} \\left(\\omega_{1, k} + \\omega_{2, k}\\right)\\cos(\\theta_k) \\\\\n",
    "    y_{k+1} = y_k + \\frac{r\\Delta t}{2} \\left(\\omega_{1, k} + \\omega_{2, k}\\right)\\sin(\\theta_k) \\\\\n",
    "    \\theta_{k+1} = \\theta_k + \\frac{r\\Delta t}{2L} \\left(\\omega_{1, k} - \\omega_{2, k}\\right)\n",
    "\\end{array}$$\n",
    "\n",
    "where $\\omega_{i, k}$ is the $i$th wheel speed at time step $t_k$."
   ]
  },
  {
   "cell_type": "markdown",
   "metadata": {},
   "source": [
    "Now let's use Euler's Method to find the path that a robot with $r = 0.5$ and $L = 0.6$ takes when it has wheel speeds determined by\n",
    "\n",
    "$$\\dot \\phi_1 = 0.25 \\sin(2t)$$\n",
    "$$\\dot \\phi_2 = 0.5 \\cos(2 + t)$$\n",
    "\n",
    "for $0 \\leq t \\leq 5$."
   ]
  },
  {
   "cell_type": "code",
   "execution_count": null,
   "metadata": {},
   "outputs": [],
   "source": [
    "%config InlineBackend.figure_format = 'svg'\n",
    "%matplotlib inline\n",
    "\n",
    "import numpy as np\n",
    "import matplotlib.pyplot as plt\n",
    "from scipy.integrate import solve_ivp\n",
    "import seaborn as sns\n",
    "\n",
    "sns.set()"
   ]
  },
  {
   "cell_type": "code",
   "execution_count": null,
   "metadata": {},
   "outputs": [],
   "source": [
    "def phi1_dot(t):\n",
    "    \"\"\"Returns the right wheel speed at the given time.\"\"\"\n",
    "    return 0.25 * (t ** 1.5)\n",
    "\n",
    "def phi2_dot(t):\n",
    "    return 0.75 * t"
   ]
  },
  {
   "cell_type": "code",
   "execution_count": null,
   "metadata": {},
   "outputs": [],
   "source": [
    "r = 0.5\n",
    "L = 0.6"
   ]
  },
  {
   "cell_type": "code",
   "execution_count": null,
   "metadata": {},
   "outputs": [],
   "source": [
    "def x_dot(w1, w2, theta):\n",
    "    \"\"\"The differential drive FK x velocity\"\"\"\n",
    "    return (r / 2.0) * (w1 + w2) * np.cos(theta)\n",
    "\n",
    "def y_dot(w1, w2, theta):\n",
    "    \"\"\"The differential drive FK y velocity\"\"\"\n",
    "    return (r / 2.0) * (w1 + w2) * np.sin(theta)\n",
    "\n",
    "def theta_dot(w1, w2):\n",
    "    return (r / (2.0 * L)) * (w1 - w2)"
   ]
  },
  {
   "cell_type": "markdown",
   "metadata": {},
   "source": [
    "Now that we have the pieces of the puzzle laying on the table, let's put them together."
   ]
  },
  {
   "cell_type": "code",
   "execution_count": null,
   "metadata": {},
   "outputs": [],
   "source": [
    "def path(x0, ta, tb, step):\n",
    "    \"\"\"Uses Euler's Method to find the path of the robot starting at x0\n",
    "    as time goes from ta to tb with some step size.\n",
    "    \"\"\"\n",
    "    points = []\n",
    "\n",
    "    for t in np.arange(ta, tb+step, step):\n",
    "        # Unpack the previous point into its components.\n",
    "        x, y, theta = x0\n",
    "        # Compute the wheel speeds at the given time.\n",
    "        w1 = phi1_dot(t)\n",
    "        w2 = phi2_dot(t)\n",
    "        # Update the theta component first, because x, and y depend on theta.\n",
    "        theta = theta + step * theta_dot(w1, w2)\n",
    "        # Update the x and y components.\n",
    "        x = x + step * x_dot(w1, w2, theta)\n",
    "        y = y + step * y_dot(w1, w2, theta)\n",
    "        # Repack the updated components into the current position estimate.\n",
    "        x0 = np.array([x, y, theta])\n",
    "        # Save the current position estimate.\n",
    "        points.append(x0)\n",
    "\n",
    "    # Convert the Python list of points to a numpy array\n",
    "    return np.array(points)"
   ]
  },
  {
   "cell_type": "markdown",
   "metadata": {},
   "source": [
    "Now consider the robot path from $t=0$ to $t=5$ starting at $(0, 0, 0)$ with a fairly large step size to exaggerate one of the shortcomings of Euler's method."
   ]
  },
  {
   "cell_type": "code",
   "execution_count": null,
   "metadata": {},
   "outputs": [],
   "source": [
    "euler_path = path((0, 0, 0), 0, 5, step=0.5)\n",
    "\n",
    "# Get the x and y components into their own arrays so we can plot them\n",
    "euler_x = [p[0] for p in euler_path]\n",
    "euler_y = [p[1] for p in euler_path]\n",
    "euler_theta = [p[2] for p in euler_path]"
   ]
  },
  {
   "cell_type": "code",
   "execution_count": null,
   "metadata": {},
   "outputs": [],
   "source": [
    "plt.title('Robot path estimated with Euler\\'s Method')\n",
    "plt.plot(euler_x, euler_y)\n",
    "plt.xlabel('$x$')\n",
    "plt.ylabel('$y$')\n",
    "plt.show()"
   ]
  },
  {
   "cell_type": "markdown",
   "metadata": {},
   "source": [
    "## A Better Way\n",
    "\n",
    "Python is a language with a *rich* ecosystem of libraries. In particular, Python has an excellent scientific computation libraries that do everything from advanced mathematics to machine learning, to data analytics, to simulating quantum computers. A good rule of thumb is that if you have a need to perform some general task, there's a Python library that implements at least some form of that task better than you could, should you attempt to.\n",
    "\n",
    "Thus, we should look at how to perform numerical integration the *right way* in Python. After a quick Google search, you should find [`scipy.integrate.solve_ivp`](https://docs.scipy.org/doc/scipy/reference/generated/scipy.integrate.solve_ivp.html) or [`scipy.integrate.odeint`](https://docs.scipy.org/doc/scipy/reference/generated/scipy.integrate.odeint.html). Here, we'll use `solve_ivp`.\n",
    "\n",
    "Looking at the excellent SciPy [documentation](https://docs.scipy.org/doc/scipy/reference/generated/scipy.integrate.solve_ivp.html) we see that `solve_ivp` has the call signature\n",
    "\n",
    "```python\n",
    "solve_ivp(fun, t_span, y0, t_eval=None)\n",
    "```\n",
    "\n",
    "where `f(t, y)` is a Python function defining the right hand side of the system of ODEs\n",
    "$$\\frac{\\mathrm d \\vec y}{\\mathrm d t} = f(t, \\vec y)$$\n",
    "integrated over the `t_span`\n",
    "$$a \\leq t \\leq b$$\n",
    "and `y0` is the initial condition\n",
    "$$y_0 = y(a)$$\n",
    "\n",
    "If we wish to plot the path of the robot, we also need to pass in the optional `t_eval` parameter to tell it at which times to save the $(x, y, \\theta)$ points along the path."
   ]
  },
  {
   "cell_type": "markdown",
   "metadata": {},
   "source": [
    "So we define the function as follows:"
   ]
  },
  {
   "cell_type": "code",
   "execution_count": null,
   "metadata": {},
   "outputs": [],
   "source": [
    "def f(t, vars):\n",
    "    \"\"\"The differential drive robot FK.\"\"\"\n",
    "    # Unpack the current step estimates of the values of the state variables\n",
    "    x, y, theta = vars\n",
    "    # Use the functions we defined earlier\n",
    "    w1 = phi1_dot(t)\n",
    "    w2 = phi2_dot(t)\n",
    "    # Return a vector of the time derivatives\n",
    "    return x_dot(w1, w2, theta), y_dot(w1, w2, theta), theta_dot(w1, w2)"
   ]
  },
  {
   "cell_type": "markdown",
   "metadata": {},
   "source": [
    "Now that we have our function defined, we need to integrate it. The default solution method `solve_ivp` uses is 'RK45' (Explicit Runge-Kutta method of order 5(4)). For most cases, this is sufficient, but there are other options should you need them."
   ]
  },
  {
   "cell_type": "code",
   "execution_count": null,
   "metadata": {},
   "outputs": [],
   "source": [
    "from scipy.integrate import solve_ivp\n",
    "result = solve_ivp(f, (0, 5), (0, 0, 0), t_eval=np.linspace(0, 5, 100))\n",
    "# The result that solve_ivp returns is a complex object, with lots of fields.\n",
    "# Refer to the documentation for details.\n",
    "rk4_x, rk4_y, rk4_theta = result.y"
   ]
  },
  {
   "cell_type": "markdown",
   "metadata": {},
   "source": [
    "Now we plot the results."
   ]
  },
  {
   "cell_type": "code",
   "execution_count": null,
   "metadata": {},
   "outputs": [],
   "source": [
    "plt.title('Robot path estimated with RK4')\n",
    "plt.plot(rk4_x, rk4_y)\n",
    "plt.xlabel('$x$')\n",
    "plt.ylabel('$y$')\n",
    "plt.show()"
   ]
  },
  {
   "cell_type": "markdown",
   "metadata": {},
   "source": [
    "Now we should compare the results with what we got using Euler's Method"
   ]
  },
  {
   "cell_type": "code",
   "execution_count": null,
   "metadata": {},
   "outputs": [],
   "source": [
    "plt.title('Robot path comparison')\n",
    "plt.plot(rk4_x, rk4_y, label='RK4')\n",
    "plt.plot(euler_x, euler_y, label='Euler')\n",
    "plt.legend()\n",
    "plt.xlabel('$x$')\n",
    "plt.ylabel('$y$')\n",
    "plt.show()"
   ]
  },
  {
   "cell_type": "markdown",
   "metadata": {},
   "source": [
    "Note that Euler's method over estimates the curve in the arc. This an inherent problem with Euler's Method that RK4 was invented to solve. Now, of course, we used a giant step size to exaggerate this problem. Let's try again with a more reasonable step size."
   ]
  },
  {
   "cell_type": "code",
   "execution_count": null,
   "metadata": {},
   "outputs": [],
   "source": [
    "euler_path = path((0, 0, 0), 0, 5, step=0.1)\n",
    "\n",
    "# Get the x and y components into their own arrays so we can plot them\n",
    "euler_x = [p[0] for p in euler_path]\n",
    "euler_y = [p[1] for p in euler_path]\n",
    "euler_theta = [p[2] for p in euler_path]"
   ]
  },
  {
   "cell_type": "code",
   "execution_count": null,
   "metadata": {},
   "outputs": [],
   "source": [
    "plt.title('Robot path comparison')\n",
    "plt.plot(rk4_x, rk4_y, label='RK4')\n",
    "plt.plot(euler_x, euler_y, label='Euler')\n",
    "plt.legend()\n",
    "plt.xlabel('$x$')\n",
    "plt.ylabel('$y$')\n",
    "plt.show()"
   ]
  },
  {
   "cell_type": "markdown",
   "metadata": {},
   "source": [
    "Notice that this is much closer, but still off. Be aware of this problem when using Euler's Method. It's computationally simpler, but over time, error can accumulate, especially if you have not tuned your step size to your problem."
   ]
  }
 ],
 "metadata": {
  "kernelspec": {
   "display_name": "Python 3",
   "language": "python",
   "name": "python3"
  },
  "language_info": {
   "codemirror_mode": {
    "name": "ipython",
    "version": 3
   },
   "file_extension": ".py",
   "mimetype": "text/x-python",
   "name": "python",
   "nbconvert_exporter": "python",
   "pygments_lexer": "ipython3",
   "version": "3.6.6"
  }
 },
 "nbformat": 4,
 "nbformat_minor": 2
}
