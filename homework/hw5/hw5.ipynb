{
 "cells": [
  {
   "cell_type": "markdown",
   "metadata": {},
   "source": [
    "# Homework 5\n",
    "\n",
    "Austin Gill\n",
    "\n",
    "* 11: 3\n",
    "* 16: 1, 2\n",
    "* 17: 2, 3, 4\n",
    "* 18: 1.1\n",
    "* Text Addition"
   ]
  },
  {
   "cell_type": "markdown",
   "metadata": {},
   "source": [
    "## Problem 11.3\n",
    "\n",
    "Write a Python program to navigate a robot using the Wavefront algorithm. Demonstrate on a map with multiple obstacles."
   ]
  },
  {
   "cell_type": "markdown",
   "metadata": {},
   "source": [
    "## Problem 16.1\n",
    "\n",
    "Let $z_1=284$, $z_2=257$, $z_3=295$, be measurements from sensors which have normally distributed errors with standard deviations $\\sigma_1=10$, $\\sigma_2=20$, $\\sigma_3=15$, respectively. What is the best estimate for the measured state?"
   ]
  },
  {
   "cell_type": "markdown",
   "metadata": {},
   "source": [
    "## Problem 16.2\n",
    "\n",
    "You are given three distance sensors which all measure the same distance. To determine the accuracy of each you run repeated measurements of an object which you setup so that the sensor will return 2 meters. Running 40 measurements you obtain the data listed below. Next you measure the distance of an object ahead of the robot. Sensor $A$ gives 2.4577696, sensor $B$ gives 1.8967743, and sensor $C$ gives 2.1352561. Combine these readings to make a more accurate estimate of the object distance. Hint: you need to figure out the distributions and the data according to the variances.\n",
    "\n",
    "|    $A$    |    $B$    |    $C$    |\n",
    "|:---------:|:---------:|:---------:|\n",
    "| 2.2411549 | 1.8286673 | 2.3295015 |\n",
    "| 2.3366108 | 1.9243295 | 2.4867167 |\n",
    "| 1.9687234 | 1.8972737 | 2.5489412 |\n",
    "| 2.1240351 | 2.0961534 | 1.9834876 |\n",
    "| 2.3984044 | 1.7985819 | 2.6153805 |\n",
    "| 2.3523899 | 1.8377782 | 1.8132444 |\n",
    "| 2.1074266 | 1.8358201 | 2.5563951 |\n",
    "| 2.4711542 | 1.8875839 | 2.2031291 |\n",
    "| 2.1998000 | 1.8116113 | 2.3117542 |\n",
    "| 2.2710086 | 1.8701890 | 2.3495262 |\n",
    "| 2.3530473 | 1.7646824 | 2.0109293 |\n",
    "| 2.4391559 | 1.9499153 | 2.5030771 |\n",
    "| 2.2066306 | 1.9243432 | 2.3561112 |\n",
    "| 2.3000099 | 1.8309696 | 2.3097754 |\n",
    "| 2.2235766 | 1.8453219 | 2.2940692 |\n",
    "| 2.1396901 | 1.8390955 | 2.1904604 |\n",
    "| 2.0929719 | 1.7978329 | 2.5693897 |\n",
    "| 2.3154159 | 1.8217245 | 1.9332188 |\n",
    "| 2.3716302 | 1.9558670 | 2.3002433 |\n",
    "| 2.2611420 | 1.8654487 | 2.5508342 |\n",
    "| 2.1415088 | 1.7836290 | 2.6884786 |\n",
    "| 2.2088487 | 1.9245743 | 2.5037028 |\n",
    "| 2.2714614 | 1.8918415 | 2.7112663 |\n",
    "| 2.3345816 | 1.8275421 | 2.1656644 |\n",
    "| 2.3052296 | 1.8494488 | 2.1940472 |\n",
    "| 2.1600041 | 1.7632971 | 2.2703708 |\n",
    "| 2.0630943 | 1.8396972 | 2.6488544 |\n",
    "| 2.0997821 | 1.8412331 | 2.1828831 |\n",
    "| 2.3037175 | 1.7761007 | 2.2959535 |\n",
    "| 2.4536524 | 1.8542271 | 2.0446945 |\n",
    "| 2.3909478 | 1.8649815 | 2.7852822 |\n",
    "| 2.1195966 | 1.9533324 | 2.5700007 |\n",
    "| 2.0205112 | 1.8857815 | 2.1113650 |\n",
    "| 2.1708006 | 1.7115595 | 2.1215336 |\n",
    "| 2.0800748 | 1.9403332 | 2.3126032 |\n",
    "| 2.3332722 | 1.8530670 | 2.4687277 |\n",
    "| 2.0826115 | 1.8279041 | 2.6104026 |\n",
    "| 2.2652480 | 1.9058054 | 2.3165716 |\n",
    "| 2.3734464 | 1.9632258 | 2.0907554 |\n",
    "| 2.0563260 | 1.9367908 | 2.2130578 |"
   ]
  },
  {
   "cell_type": "markdown",
   "metadata": {},
   "source": [
    "## Problem 17.2\n",
    "\n",
    "Assume that one has three different measurements for the location of some object. The three measurements with the covariances are\n",
    "\n",
    "$$\\begin{align}\n",
    "    (10.5, 18.2)&, \\quad\\begin{pmatrix}\n",
    "        0.1 & 0.01 \\\\\n",
    "        0.01 & 0.15\n",
    "    \\end{pmatrix} \\\\\n",
    "    (10.75, 18.0)&, \\quad\\begin{pmatrix}\n",
    "        0.05 & 0.005 \\\\\n",
    "        0.005 & 0.05\n",
    "    \\end{pmatrix} \\\\\n",
    "    (9.9, 19.1)&, \\quad\\begin{pmatrix}\n",
    "        0.2 & 0.05 \\\\\n",
    "        0.05 & 0.25\n",
    "    \\end{pmatrix}\n",
    "\\end{align}$$\n",
    "Fuse this data into one measurement and provide an estimate of the covariance."
   ]
  },
  {
   "cell_type": "markdown",
   "metadata": {},
   "source": [
    "## Problem 17.3\n",
    "\n",
    "Run a simulation on\n",
    "\n",
    "$$\\begin{align*}\n",
    "    \\dot x &= y \\\\\n",
    "    \\dot y &= -\\cos x + 0.5 \\sin t\n",
    "\\end{align*}$$\n",
    "\n",
    "adding noise to the $x$ and $y$ components (with variance = $0.2$ on each). Let $\\Delta t=0.1$. Assume that you can observe the first variable, $x$, with variance $0.25$. Record the observations. Write a program to run the EKF on the observed data and compare the state estimate to the original values."
   ]
  },
  {
   "cell_type": "markdown",
   "metadata": {},
   "source": [
    "## Problem 17.4\n",
    "\n",
    "Differential Drive - EKF. The motion equations for a differential drive robot are given below. Assume that the wheels are $5$cm in radius and the wheelbase is $12$cm.\n",
    "\n",
    "The covariance of the state transition is $V$. Assume that you have a local GPS system that gives $(x,y)$ data subject to Gaussian noise with covariance $W$. The units on the noise are given in cm. If you want to use meters then you will need to divide your noise by 100.\n",
    "\n",
    "1. Starting at $t=0$, $x=0$, $y=0$, $\\theta=0$, predict location when wheel velocities are:\n",
    "   \n",
    "   $$\\begin{align*}\n",
    "     0  \\leq t \\leq 5 &,\\quad  \\omega_1 =  \\omega_2 = 3 \\\\\n",
    "     5  \\leq t \\leq 6 &,\\quad  \\omega_1 = -\\omega_2 = 1 \\\\\n",
    "     6  \\leq t \\leq 10&,\\quad  \\omega_1 =  \\omega_2 = 3 \\\\\n",
    "     10 \\leq t \\leq 11&,\\quad -\\omega_1 =  \\omega_2 = 1 \\\\\n",
    "     11 \\leq t \\leq 16&,\\quad  \\omega_1 =  \\omega_2 = 3 \\\\\n",
    "   \\end{align*}$$\n",
    "   assuming that you have Gaussian noise on the omegas per time step. Select $\\Delta t=0.2$ (time increment). Test with a standard deviation of $0.1$ on both wheels.\n",
    "2. Write out the formulas for the Extended Kalman Filter.\n",
    "3. Apply an Extended Kalman filter to the motion simulation above to track the location of the vehicle. Observations can be simulated by using previous simulation data as actual data, i.e. use this as the observed data ($z_k$). Parameters:\n",
    "   $$x_{0|0} = (0,0,0)$$\n",
    "   $$V = \\begin{pmatrix}.05 &  .02 & 0.01\\\\.02& .05& 0.01\\\\ 0.01& 0.01& .1\\end{pmatrix}$$\n",
    "   $$W = \\begin{pmatrix} .08& .02 \\\\.02&  .07\\end{pmatrix}$$\n",
    "   $$P_{0|0} = \\begin{pmatrix}2 &0& 0\\\\0 &1& 0\\\\0& 0& 0.5\\end{pmatrix}$$\n",
    "4. Output the $x, y$ locations on a 0.5 sec grid and compare in a plot.\n",
    "   \n",
    "   ??\n",
    "5. The covariance matrix $P$ gives the uncertainly ellipse for the location of the robot. Plot 5 ellipses along the path. This ellipse has major and minor axes given by the eigenvectors of $P$ and the axes lengths are given by the associated eigenvalues."
   ]
  },
  {
   "cell_type": "markdown",
   "metadata": {},
   "source": [
    "## Problem 18.1.1 ??\n",
    "\n",
    "Let the domain be the rectangle $0 \\leq x \\leq 15$ and $0 \\leq y \\leq 10$. Place the start position at $(0,5)$. Place the end position at $(15,5)$. Assume you have circular obstacles centered at $(6,4)$ with radius $2$ and at $(8,6)$ with radius $3$. Find a potential function which can navigate the robot from the start to the end position.\n",
    "\n",
    "1. Plot the resulting path in Python with obstacles included in the map.\n",
    "2. Compare to the Wavefront approach."
   ]
  }
 ],
 "metadata": {
  "kernelspec": {
   "display_name": "Python 3",
   "language": "python",
   "name": "python3"
  },
  "language_info": {
   "codemirror_mode": {
    "name": "ipython",
    "version": 3
   },
   "file_extension": ".py",
   "mimetype": "text/x-python",
   "name": "python",
   "nbconvert_exporter": "python",
   "pygments_lexer": "ipython3",
   "version": "3.6.6"
  }
 },
 "nbformat": 4,
 "nbformat_minor": 2
}
