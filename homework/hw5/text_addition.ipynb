{
 "cells": [
  {
   "cell_type": "markdown",
   "metadata": {},
   "source": [
    "# Map Generation using Celular Automata\n",
    "\n",
    "It's common to require maps to test your algorithms on. However, a common pitfall is not introducing enough variance in the kinds of maps you experiment with. Humans make terrible random generators, and many rely on placing random ellipses on the screen, despite the fact that nothing in the real world is ever so nice and even. It's also boring.\n",
    "\n",
    "So we need a technique for generating random maps. Our requirements are:\n",
    "\n",
    "1. The maps are random.\n",
    "2. The free space should be relatively contiguous, and so should each obstacle.\n",
    "\n",
    "## Attempt #1"
   ]
  },
  {
   "cell_type": "code",
   "execution_count": null,
   "metadata": {},
   "outputs": [],
   "source": [
    "# %config InlineBackend.figure_format = 'pdf'\n",
    "%config InlineBackend.figure_format = 'svg'\n",
    "%matplotlib inline\n",
    "\n",
    "import itertools\n",
    "import functools\n",
    "import operator\n",
    "import numpy as np\n",
    "import matplotlib.pyplot as plt\n",
    "# Apparently, SNS stands for \"Samuel Norman Seaborn\", a fictional\n",
    "# character from The West Wing.\n",
    "import seaborn as sns\n",
    "\n",
    "sns.set()"
   ]
  },
  {
   "cell_type": "markdown",
   "metadata": {},
   "source": [
    "Because we're going to be plotting the maps quite a bit, define a handy helper function to plot them."
   ]
  },
  {
   "cell_type": "code",
   "execution_count": null,
   "metadata": {},
   "outputs": [],
   "source": [
    "def plot_map(A, **kwargs):\n",
    "    \"\"\"Plots the given map with a binary colormap.\"\"\"\n",
    "    sns.heatmap(A,\n",
    "                cbar=False, square=True, xticklabels=False, yticklabels=False,\n",
    "                # Pick a colormap to draw live cells as black and dead cells as white.\n",
    "                cmap=sns.cubehelix_palette(dark=0.1, light=0.95),\n",
    "                **kwargs,\n",
    "               )"
   ]
  },
  {
   "cell_type": "markdown",
   "metadata": {},
   "source": [
    "It's easy to generate a \"spongy\" map. Just decide on the ratio of free space to obstacles"
   ]
  },
  {
   "cell_type": "code",
   "execution_count": null,
   "metadata": {},
   "outputs": [],
   "source": [
    "rows, cols = 20, 20\n",
    "percentage = 0.40\n",
    "\n",
    "A = np.zeros(rows * cols, dtype=np.bool)\n",
    "A[:int(percentage * rows * cols)] = True\n",
    "\n",
    "plt.title('Map before shuffling')\n",
    "plot_map(A.reshape(rows, cols))\n",
    "plt.show()"
   ]
  },
  {
   "cell_type": "markdown",
   "metadata": {},
   "source": [
    "and shake it around"
   ]
  },
  {
   "cell_type": "code",
   "execution_count": null,
   "metadata": {},
   "outputs": [],
   "source": [
    "np.random.shuffle(A)\n",
    "# Reshape the array from a 1D array to a 2D matrix\n",
    "A = np.reshape(A, (rows, cols))\n",
    "\n",
    "plt.title('Map after shuffling')\n",
    "plot_map(A)\n",
    "plt.show()"
   ]
  },
  {
   "cell_type": "markdown",
   "metadata": {},
   "source": [
    "Lets write this up as a function so we have access to it later. I'm going to call the function `generate_seed()` because I happen to know I'll be using it later."
   ]
  },
  {
   "cell_type": "code",
   "execution_count": null,
   "metadata": {},
   "outputs": [],
   "source": [
    "def generate_seed(shape, percentage):\n",
    "    \"\"\"Generate a randomly filled binary array.\n",
    "    \n",
    "    :param shape: The shape of the array to generate.\n",
    "    :type shape: An int or tuple of ints.\n",
    "    :param percentage: The percentage of 0s to fill.\n",
    "    \"\"\"\n",
    "    elements = shape\n",
    "    if isinstance(shape, tuple):\n",
    "        elements = functools.reduce(operator.mul, shape, 1)\n",
    "    # Generate a 1D array with the right number of elements.\n",
    "    A = np.zeros(elements, dtype=np.bool)\n",
    "    A[:int(percentage * elements)] = True\n",
    "    np.random.shuffle(A)\n",
    "    # Return a view of the array with the right dimensions.\n",
    "    return np.reshape(A, shape)"
   ]
  },
  {
   "cell_type": "markdown",
   "metadata": {},
   "source": [
    "Note that while this function can generate an dimension of arrays, we'll deal only with the 2D case."
   ]
  },
  {
   "cell_type": "markdown",
   "metadata": {},
   "source": [
    "## Attempt #2\n",
    "\n",
    "After a bit of research, it seems that using Cellular Automata to simulate the array for several time steps as if it were full of live cells that can die and reproduce. This might be able (under the right conditions) turn an unnaturally random array of unrelated cells into a collection of distinct blobs. The key in cellular automata is that there is an inherent relationship between a cell and its neighbors. So let's begin by extracting the neighbors from a given cell."
   ]
  },
  {
   "cell_type": "code",
   "execution_count": null,
   "metadata": {},
   "outputs": [],
   "source": [
    "def neighbors(A, coord):\n",
    "    \"\"\"Get the 3x3 submatrix around the coordinate (i, j).\n",
    "    \n",
    "    :param A: The array to extract the submatrix from.\n",
    "    :type A: A numpy array with shape (M, N).\n",
    "    \"\"\"\n",
    "    i, j = coord\n",
    "    # Avoid negative indices by clamping down to 0. Positive indices\n",
    "    # outside the array are fine because slicing will only go up to\n",
    "    # the edge.\n",
    "    xmin, ymin = np.clip([i - 1, j - 1], 0, None)\n",
    "    # End point in a slice is exclusive, so add 2.\n",
    "    return A[xmin : i + 2, ymin : j + 2]"
   ]
  },
  {
   "cell_type": "markdown",
   "metadata": {},
   "source": [
    "Now test it to make sure we wrote it correctly."
   ]
  },
  {
   "cell_type": "code",
   "execution_count": null,
   "metadata": {},
   "outputs": [],
   "source": [
    "A = generate_seed((4, 4), 0.5)\n",
    "plt.title('neighbor example')\n",
    "plot_map(A)\n",
    "plt.show()"
   ]
  },
  {
   "cell_type": "code",
   "execution_count": null,
   "metadata": {},
   "outputs": [],
   "source": [
    "plt.title('Upper left neighbors')\n",
    "plot_map(neighbors(A, (1, 1)))\n",
    "plt.show()"
   ]
  },
  {
   "cell_type": "code",
   "execution_count": null,
   "metadata": {},
   "outputs": [],
   "source": [
    "plt.title('Lower right neighbors')\n",
    "plot_map(neighbors(A, (3, 3)))\n",
    "plt.show()"
   ]
  },
  {
   "cell_type": "markdown",
   "metadata": {},
   "source": [
    "Notice how `neighbors()` returns a $2 \\times 2$ submatrix rather than a $3 \\times 3$ when the point we gave it was in the bottom right corner."
   ]
  },
  {
   "cell_type": "markdown",
   "metadata": {},
   "source": [
    "Now we need to define our cellular automata rules for reproduction and death. In one time step,\n",
    "\n",
    "1. A dead cell becomes alive if it is surrounded by 6 or more living cells.\n",
    "2. A living cell dies if it is surrounded by 3 or fewer living cells.\n",
    "\n",
    "Note that the exact conditions are configurable. You might pick different requirements to suite your needs."
   ]
  },
  {
   "cell_type": "markdown",
   "metadata": {},
   "source": [
    "So we write a function to run one time step on a given map."
   ]
  },
  {
   "cell_type": "code",
   "execution_count": null,
   "metadata": {},
   "outputs": [],
   "source": [
    "def timestep(A):\n",
    "    \"\"\"Runs a single time step on the given array of cells.\n",
    "    \n",
    "    :param A: The 2D numpy array of cells.\n",
    "    \"\"\"\n",
    "    rows, cols = A.shape\n",
    "    # Iterate over every cell in the array.\n",
    "    for cell in itertools.product(range(rows), range(cols)):\n",
    "        # Get the neighbors of the current cell.\n",
    "        B = neighbors(A, cell)\n",
    "        # A dead cell becomes alive if surrounded by more than 5 neighbors.\n",
    "        if not A[cell] and np.sum(B) >= 6:\n",
    "            A[cell] = True\n",
    "        # A living cell dies if surrounded by 3 or fewer neighbors.\n",
    "        elif A[cell] and np.sum(B) <= 3:\n",
    "            A[cell] = False"
   ]
  },
  {
   "cell_type": "code",
   "execution_count": null,
   "metadata": {},
   "outputs": [],
   "source": [
    "A = generate_seed((20, 20), 0.4)\n",
    "\n",
    "fig, axes = plt.subplots(2, 2)\n",
    "axes = np.reshape(axes, 4)\n",
    "\n",
    "axes[0].set_title('$t = 0$')\n",
    "plot_map(A, ax=axes[0])\n",
    "\n",
    "# Run 4 time steps and plot the results.\n",
    "for i, ax in enumerate(axes[1:]):\n",
    "    timestep(A)\n",
    "    ax.set_title(f'$t = {i + 1}$')\n",
    "    plot_map(A, ax=ax)\n",
    "\n",
    "plt.show()"
   ]
  },
  {
   "cell_type": "markdown",
   "metadata": {},
   "source": [
    "Note that not much changes in later iterations. This algorithm converges quickly, for better or for worse. Running the algorithm more times only gets rid of small obstacles, and doesn't really change the large ones."
   ]
  },
  {
   "cell_type": "markdown",
   "metadata": {},
   "source": [
    "## Additional Notes\n",
    "\n",
    "It is common to regenerate with a different random seed if the obstacles do not meet some set of conditions, such as maximum or minimum size, but it's a fast enough algorithm to run multiple times and visually evaluate the quality of the output.\n",
    "\n",
    "The tweakable parameters are the starting seed, the ratio of alive to dead cells, the reproduction and death rules, and the number of iterations to run.\n",
    "\n",
    "There might also be a way to inject more random behavior with every iteration, possibly with randomness added to the reproductions and deaths each timestep. I'll avoid a philosophical discussion on the matter."
   ]
  },
  {
   "cell_type": "code",
   "execution_count": null,
   "metadata": {},
   "outputs": [],
   "source": [
    "A = generate_seed((100, 100), 0.4)\n",
    "timestep(A)\n",
    "plot_map(A)"
   ]
  }
 ],
 "metadata": {
  "kernelspec": {
   "display_name": "Python 3",
   "language": "python",
   "name": "python3"
  },
  "language_info": {
   "codemirror_mode": {
    "name": "ipython",
    "version": 3
   },
   "file_extension": ".py",
   "mimetype": "text/x-python",
   "name": "python",
   "nbconvert_exporter": "python",
   "pygments_lexer": "ipython3",
   "version": "3.6.7"
  }
 },
 "nbformat": 4,
 "nbformat_minor": 2
}
